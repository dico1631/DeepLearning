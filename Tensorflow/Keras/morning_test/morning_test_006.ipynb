{
 "cells": [
  {
   "cell_type": "markdown",
   "metadata": {},
   "source": [
    "[20% 코딩문제] 달팽이 배열 <br>\n",
    "입력값은 1 ~ 30 사이의 정수값이 들어온다고 가정해 주세요.\n",
    "\n",
    "-----------------------------------------------------------\n",
    "\n",
    "5\n",
    "\n",
    "\n",
    "\n",
    "1   2   3   4   5 \n",
    "\n",
    "16 17  18  19   6\n",
    "\n",
    "15  24  25  20  7\n",
    "\n",
    "14  23  22  21  8\n",
    "\n",
    "13 12   11  10  9"
   ]
  },
  {
   "cell_type": "code",
   "execution_count": null,
   "metadata": {},
   "outputs": [],
   "source": []
  }
 ],
 "metadata": {
  "kernelspec": {
   "display_name": "Python 3",
   "language": "python",
   "name": "python3"
  },
  "language_info": {
   "codemirror_mode": {
    "name": "ipython",
    "version": 3
   },
   "file_extension": ".py",
   "mimetype": "text/x-python",
   "name": "python",
   "nbconvert_exporter": "python",
   "pygments_lexer": "ipython3",
   "version": "3.7.6"
  }
 },
 "nbformat": 4,
 "nbformat_minor": 4
}
