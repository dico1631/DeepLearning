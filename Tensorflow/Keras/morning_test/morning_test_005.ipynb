{
 "cells": [
  {
   "cell_type": "markdown",
   "metadata": {},
   "source": [
    "세 정수를 입력으로 받아 이 수를 크기 순으로 나열할 때 중간에 위치한 수(중위수)를 구하는 문제이다.\n",
    "\n",
    "입력\n",
    "1000 이하의 자연수가 입력으로 주어진다. 세 수는 모두 같을 수 도 있다.\n",
    "\n",
    "출력\n",
    "입출력 예\n",
    "\n",
    "입력\n",
    "\n",
    "1 5 2\n",
    "\n",
    "출력\n",
    "\n",
    "2\n",
    "\n",
    "입력\n",
    "\n",
    "2 2 2\n",
    "\n",
    "출력\n",
    "\n",
    "2\n",
    "\n",
    "입력 \n",
    "\n",
    "2 5 2\n",
    "\n",
    "출력\n",
    "\n",
    "2"
   ]
  },
  {
   "cell_type": "code",
   "execution_count": 7,
   "metadata": {},
   "outputs": [
    {
     "name": "stdin",
     "output_type": "stream",
     "text": [
      " 3 3 3\n"
     ]
    },
    {
     "name": "stdout",
     "output_type": "stream",
     "text": [
      "3\n"
     ]
    }
   ],
   "source": [
    "a, b, c = map(int,input().split())\n",
    "\n",
    "if a > b:\n",
    "    if b >= c:\n",
    "        print(b)\n",
    "    elif c >= a:\n",
    "        print(a)\n",
    "    else:\n",
    "        print(c)\n",
    "else:\n",
    "    if b <= c:\n",
    "        print(b)\n",
    "    elif c <= a:\n",
    "        print(a)\n",
    "    else:\n",
    "        print(c)"
   ]
  },
  {
   "cell_type": "code",
   "execution_count": null,
   "metadata": {},
   "outputs": [],
   "source": []
  }
 ],
 "metadata": {
  "kernelspec": {
   "display_name": "Python 3",
   "language": "python",
   "name": "python3"
  },
  "language_info": {
   "codemirror_mode": {
    "name": "ipython",
    "version": 3
   },
   "file_extension": ".py",
   "mimetype": "text/x-python",
   "name": "python",
   "nbconvert_exporter": "python",
   "pygments_lexer": "ipython3",
   "version": "3.7.6"
  }
 },
 "nbformat": 4,
 "nbformat_minor": 4
}
