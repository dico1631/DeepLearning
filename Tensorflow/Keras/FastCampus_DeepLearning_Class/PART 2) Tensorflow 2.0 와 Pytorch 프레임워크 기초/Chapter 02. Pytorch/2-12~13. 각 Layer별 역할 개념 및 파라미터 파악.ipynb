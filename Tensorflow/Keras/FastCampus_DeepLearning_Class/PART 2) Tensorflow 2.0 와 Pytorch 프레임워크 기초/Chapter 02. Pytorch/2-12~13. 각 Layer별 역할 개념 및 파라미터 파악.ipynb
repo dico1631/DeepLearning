{
 "cells": [
  {
   "cell_type": "markdown",
   "metadata": {},
   "source": [
    "# PyTorch Layer 이해하기"
   ]
  },
  {
   "cell_type": "markdown",
   "metadata": {},
   "source": [
    "# 예제 불러오기"
   ]
  },
  {
   "cell_type": "code",
   "execution_count": 1,
   "metadata": {},
   "outputs": [],
   "source": [
    "import torch\n",
    "from torchvision import datasets, transforms"
   ]
  },
  {
   "cell_type": "code",
   "execution_count": 2,
   "metadata": {},
   "outputs": [],
   "source": [
    "import numpy as np\n",
    "import matplotlib.pyplot as plt\n",
    "\n",
    "%matplotlib inline"
   ]
  },
  {
   "cell_type": "code",
   "execution_count": 3,
   "metadata": {},
   "outputs": [
    {
     "name": "stdout",
     "output_type": "stream",
     "text": [
      "Downloading http://yann.lecun.com/exdb/mnist/train-images-idx3-ubyte.gz to dataset\\MNIST\\raw\\train-images-idx3-ubyte.gz\n"
     ]
    },
    {
     "name": "stderr",
     "output_type": "stream",
     "text": [
      "100.1%"
     ]
    },
    {
     "name": "stdout",
     "output_type": "stream",
     "text": [
      "Extracting dataset\\MNIST\\raw\\train-images-idx3-ubyte.gz to dataset\\MNIST\\raw\n",
      "Downloading http://yann.lecun.com/exdb/mnist/train-labels-idx1-ubyte.gz to dataset\\MNIST\\raw\\train-labels-idx1-ubyte.gz\n"
     ]
    },
    {
     "name": "stderr",
     "output_type": "stream",
     "text": [
      "113.5%"
     ]
    },
    {
     "name": "stdout",
     "output_type": "stream",
     "text": [
      "Extracting dataset\\MNIST\\raw\\train-labels-idx1-ubyte.gz to dataset\\MNIST\\raw\n",
      "Downloading http://yann.lecun.com/exdb/mnist/t10k-images-idx3-ubyte.gz to dataset\\MNIST\\raw\\t10k-images-idx3-ubyte.gz\n"
     ]
    },
    {
     "name": "stderr",
     "output_type": "stream",
     "text": [
      "100.4%"
     ]
    },
    {
     "name": "stdout",
     "output_type": "stream",
     "text": [
      "Extracting dataset\\MNIST\\raw\\t10k-images-idx3-ubyte.gz to dataset\\MNIST\\raw\n",
      "Downloading http://yann.lecun.com/exdb/mnist/t10k-labels-idx1-ubyte.gz to dataset\\MNIST\\raw\\t10k-labels-idx1-ubyte.gz\n"
     ]
    },
    {
     "name": "stderr",
     "output_type": "stream",
     "text": [
      "180.4%"
     ]
    },
    {
     "name": "stdout",
     "output_type": "stream",
     "text": [
      "Extracting dataset\\MNIST\\raw\\t10k-labels-idx1-ubyte.gz to dataset\\MNIST\\raw\n",
      "Processing...\n",
      "Done!\n"
     ]
    }
   ],
   "source": [
    "train_loader = torch.utils.data.DataLoader(\n",
    "    datasets.MNIST('dataset', train=True, download=True,\n",
    "                   transform=transforms.Compose([\n",
    "                       transforms.ToTensor()\n",
    "                   ])),\n",
    "    batch_size=1)"
   ]
  },
  {
   "cell_type": "code",
   "execution_count": 4,
   "metadata": {},
   "outputs": [],
   "source": [
    "image, label = next(iter(train_loader))"
   ]
  },
  {
   "cell_type": "code",
   "execution_count": 5,
   "metadata": {},
   "outputs": [
    {
     "data": {
      "text/plain": [
       "(torch.Size([1, 1, 28, 28]), torch.Size([1]))"
      ]
     },
     "execution_count": 5,
     "metadata": {},
     "output_type": "execute_result"
    }
   ],
   "source": [
    "# batch_size, channel, h, w\n",
    "image.shape, label.shape"
   ]
  },
  {
   "cell_type": "code",
   "execution_count": 7,
   "metadata": {},
   "outputs": [
    {
     "data": {
      "image/png": "[encoded data removed]",
      "text/plain": [
       "<Figure size 432x288 with 1 Axes>"
      ]
     },
     "metadata": {
      "needs_background": "light"
     },
     "output_type": "display_data"
    }
   ],
   "source": [
    "plt.imshow(image[0, 0, :, :], 'gray')\n",
    "plt.show()"
   ]
  },
  {
   "cell_type": "markdown",
   "metadata": {},
   "source": [
    "# 각 Layer별 설명"
   ]
  },
  {
   "cell_type": "markdown",
   "metadata": {},
   "source": [
    "- Network 쌓기 위한 준비"
   ]
  },
  {
   "cell_type": "code",
   "execution_count": 8,
   "metadata": {},
   "outputs": [],
   "source": [
    "import torch\n",
    "\n",
    "# layer nn과 f\n",
    "import torch.nn as nn  # weight가 있는 것\n",
    "import torch.nn.functional as F # function, weight가 없는 것"
   ]
  },
  {
   "cell_type": "markdown",
   "metadata": {},
   "source": [
    "### Convolution"
   ]
  },
  {
   "cell_type": "markdown",
   "metadata": {},
   "source": [
    "- in_channels: 받게 될 channel의 갯수\n",
    "- out_channels: 보내고 싶은 channel의 갯수  \n",
    "- kernel_size: 만들고 싶은 kernel(weights)의 사이즈"
   ]
  },
  {
   "cell_type": "code",
   "execution_count": 15,
   "metadata": {},
   "outputs": [
    {
     "data": {
      "text/plain": [
       "Conv2d(1, 20, kernel_size=(5, 5), stride=(1, 1))"
      ]
     },
     "execution_count": 15,
     "metadata": {},
     "output_type": "execute_result"
    }
   ],
   "source": [
    "nn.Conv2d(in_channels=1, # 사진이 1개니까 input이 1\n",
    "          out_channels=20, # tensorflow에서는 이것만 있었음\n",
    "          kernel_size=5, # (5,5)\n",
    "          stride=1)"
   ]
  },
  {
   "cell_type": "code",
   "execution_count": 10,
   "metadata": {},
   "outputs": [
    {
     "data": {
      "text/plain": [
       "Conv2d(1, 20, kernel_size=(5, 5), stride=(1, 1))"
      ]
     },
     "execution_count": 10,
     "metadata": {},
     "output_type": "execute_result"
    }
   ],
   "source": [
    "# 이렇게 써도 순서만 맞으면 작동됨\n",
    "layer = nn.Conv2d(1, 20, 5, 1).to(torch.device('cpu'))\n",
    "layer #(in, out)"
   ]
  },
  {
   "cell_type": "markdown",
   "metadata": {},
   "source": [
    "- weight 시각화를 위해 slice하고 numpy화"
   ]
  },
  {
   "cell_type": "code",
   "execution_count": 11,
   "metadata": {},
   "outputs": [
    {
     "data": {
      "text/plain": [
       "torch.Size([20, 1, 5, 5])"
      ]
     },
     "execution_count": 11,
     "metadata": {},
     "output_type": "execute_result"
    }
   ],
   "source": [
    "weight = layer.weight\n",
    "weight.shape"
   ]
  },
  {
   "cell_type": "markdown",
   "metadata": {},
   "source": [
    "- 여기서 weight는 학습 가능한 상태이기 때문에(변동이 쉽도록 만들어진 상태) 바로 numpy로 뽑아낼 수 없음\n",
    "- detach() method는 그래프에서 잠깐 빼서 gradient에 영향을 받지 않게 함"
   ]
  },
  {
   "cell_type": "code",
   "execution_count": 12,
   "metadata": {},
   "outputs": [
    {
     "ename": "RuntimeError",
     "evalue": "Can't call numpy() on Variable that requires grad. Use var.detach().numpy() instead.",
     "output_type": "error",
     "traceback": [
      "\u001b[1;31m---------------------------------------------------------------------------\u001b[0m",
      "\u001b[1;31mRuntimeError\u001b[0m                              Traceback (most recent call last)",
      "\u001b[1;32m<ipython-input-12-221ba705af35>\u001b[0m in \u001b[0;36m<module>\u001b[1;34m\u001b[0m\n\u001b[1;32m----> 1\u001b[1;33m \u001b[0mweight\u001b[0m\u001b[1;33m.\u001b[0m\u001b[0mnumpy\u001b[0m\u001b[1;33m(\u001b[0m\u001b[1;33m)\u001b[0m\u001b[1;33m\u001b[0m\u001b[1;33m\u001b[0m\u001b[0m\n\u001b[0m",
      "\u001b[1;31mRuntimeError\u001b[0m: Can't call numpy() on Variable that requires grad. Use var.detach().numpy() instead."
     ]
    }
   ],
   "source": [
    "weight.numpy()"
   ]
  },
  {
   "cell_type": "code",
   "execution_count": 13,
   "metadata": {},
   "outputs": [],
   "source": [
    "weight = weight.detach().numpy()"
   ]
  },
  {
   "cell_type": "code",
   "execution_count": 14,
   "metadata": {},
   "outputs": [
    {
     "data": {
      "text/plain": [
       "(20, 1, 5, 5)"
      ]
     },
     "execution_count": 14,
     "metadata": {},
     "output_type": "execute_result"
    }
   ],
   "source": [
    "weight.shape"
   ]
  },
  {
   "cell_type": "code",
   "execution_count": 25,
   "metadata": {},
   "outputs": [
    {
     "data": {
      "image/png": "[encoded data removed]",
      "text/plain": [
       "<Figure size 432x288 with 2 Axes>"
      ]
     },
     "metadata": {
      "needs_background": "light"
     },
     "output_type": "display_data"
    }
   ],
   "source": [
    "plt.imshow(weight[0, 0, :, :], 'jet') # 1번째 것\n",
    "plt.colorbar()\n",
    "plt.show()"
   ]
  },
  {
   "cell_type": "markdown",
   "metadata": {},
   "source": [
    "- output 시각화 준비를 위해 numpy화"
   ]
  },
  {
   "cell_type": "code",
   "execution_count": 26,
   "metadata": {},
   "outputs": [],
   "source": [
    "output_data = layer(image)"
   ]
  },
  {
   "cell_type": "code",
   "execution_count": 27,
   "metadata": {},
   "outputs": [],
   "source": [
    "output_data = output_data.data"
   ]
  },
  {
   "cell_type": "code",
   "execution_count": 29,
   "metadata": {},
   "outputs": [],
   "source": [
    "output = output_data.cpu().numpy() # cpu로 컴파일 후 numpy로 변환"
   ]
  },
  {
   "cell_type": "code",
   "execution_count": 30,
   "metadata": {},
   "outputs": [
    {
     "data": {
      "text/plain": [
       "(1, 20, 24, 24)"
      ]
     },
     "execution_count": 30,
     "metadata": {},
     "output_type": "execute_result"
    }
   ],
   "source": [
    "output.shape # convolution을 거친 이미지"
   ]
  },
  {
   "cell_type": "markdown",
   "metadata": {},
   "source": [
    "- Input으로 들어간 이미지 numpy화 "
   ]
  },
  {
   "cell_type": "code",
   "execution_count": 22,
   "metadata": {},
   "outputs": [
    {
     "data": {
      "text/plain": [
       "(1, 1, 28, 28)"
      ]
     },
     "execution_count": 22,
     "metadata": {},
     "output_type": "execute_result"
    }
   ],
   "source": [
    "image_arr = image.numpy() # 원래 이미지\n",
    "image_arr.shape"
   ]
  },
  {
   "cell_type": "code",
   "execution_count": 23,
   "metadata": {},
   "outputs": [
    {
     "data": {
      "text/plain": [
       "(28, 28)"
      ]
     },
     "execution_count": 23,
     "metadata": {},
     "output_type": "execute_result"
    }
   ],
   "source": [
    "np.squeeze(image_arr).shape"
   ]
  },
  {
   "cell_type": "code",
   "execution_count": 31,
   "metadata": {},
   "outputs": [
    {
     "data": {
      "image/png": "[encoded data removed]",
      "text/plain": [
       "<Figure size 1080x2160 with 3 Axes>"
      ]
     },
     "metadata": {
      "needs_background": "light"
     },
     "output_type": "display_data"
    }
   ],
   "source": [
    "plt.figure(figsize=(15, 30))\n",
    "plt.subplot(131)\n",
    "plt.title('Input')\n",
    "# np.squeeze(image_arr) : image_arr에서 batch_size와 channel 지우기\n",
    "plt.imshow(np.squeeze(image_arr), 'gray')  # 원래 이미지\n",
    "plt.subplot(132)\n",
    "plt.title('Weight')\n",
    "plt.imshow(weight[0, 0, :, :], 'jet') # weight : filter\n",
    "plt.subplot(133)\n",
    "plt.title('Output')\n",
    "plt.imshow(output[0, 0, :, :], 'gray') # image_arr과 weight를 합성곱한 결과물 \n",
    "plt.show()"
   ]
  },
  {
   "cell_type": "markdown",
   "metadata": {},
   "source": [
    "### Pooling"
   ]
  },
  {
   "cell_type": "markdown",
   "metadata": {},
   "source": [
    "input을 먼저 앞에 넣고, 뒤에 kernel 사이즈와 stride를 순서대로 넣음"
   ]
  },
  {
   "cell_type": "code",
   "execution_count": 32,
   "metadata": {},
   "outputs": [
    {
     "data": {
      "text/plain": [
       "torch.Size([1, 1, 28, 28])"
      ]
     },
     "execution_count": 32,
     "metadata": {},
     "output_type": "execute_result"
    }
   ],
   "source": [
    "image.shape"
   ]
  },
  {
   "cell_type": "code",
   "execution_count": 33,
   "metadata": {},
   "outputs": [
    {
     "data": {
      "text/plain": [
       "torch.Size([1, 1, 14, 14])"
      ]
     },
     "execution_count": 33,
     "metadata": {},
     "output_type": "execute_result"
    }
   ],
   "source": [
    "# 크기가 28 > 14, 절반으로 줄어듬\n",
    "pool = F.max_pool2d(image, 2, 2)\n",
    "pool.shape"
   ]
  },
  {
   "cell_type": "markdown",
   "metadata": {},
   "source": [
    "- MaxPool Layer는 weight가 없기 때문에 바로 numpy()가 가능"
   ]
  },
  {
   "cell_type": "code",
   "execution_count": 34,
   "metadata": {},
   "outputs": [
    {
     "data": {
      "text/plain": [
       "(1, 1, 14, 14)"
      ]
     },
     "execution_count": 34,
     "metadata": {},
     "output_type": "execute_result"
    }
   ],
   "source": [
    "# detach 필요 없음\n",
    "pool_arr = pool.numpy()\n",
    "pool_arr.shape"
   ]
  },
  {
   "cell_type": "code",
   "execution_count": 35,
   "metadata": {},
   "outputs": [
    {
     "data": {
      "text/plain": [
       "(1, 1, 28, 28)"
      ]
     },
     "execution_count": 35,
     "metadata": {},
     "output_type": "execute_result"
    }
   ],
   "source": [
    "image_arr.shape # 원래 이미지"
   ]
  },
  {
   "cell_type": "code",
   "execution_count": 37,
   "metadata": {},
   "outputs": [
    {
     "data": {
      "image/png": "[encoded data removed]",
      "text/plain": [
       "<Figure size 720x1080 with 2 Axes>"
      ]
     },
     "metadata": {
      "needs_background": "light"
     },
     "output_type": "display_data"
    }
   ],
   "source": [
    "# squeeze: 1,1 없애기\n",
    "\n",
    "plt.figure(figsize=(10, 15))\n",
    "plt.subplot(121)\n",
    "plt.title(\"Input\")\n",
    "plt.imshow(np.squeeze(image_arr), 'gray') # 원래 이미지\n",
    "plt.subplot(122)\n",
    "plt.title('Output')\n",
    "plt.imshow(np.squeeze(pool_arr), 'gray') # pooling한 결과물, 즉 단순화한 결과물(픽셀들이 커짐)\n",
    "plt.show()"
   ]
  },
  {
   "cell_type": "markdown",
   "metadata": {},
   "source": [
    "### Linear"
   ]
  },
  {
   "cell_type": "markdown",
   "metadata": {},
   "source": [
    "nn.Linear는 2d가 아닌 1d만 들어가기 때문에 .view() 1D로 펼쳐줘야함"
   ]
  },
  {
   "cell_type": "code",
   "execution_count": 38,
   "metadata": {},
   "outputs": [
    {
     "data": {
      "text/plain": [
       "torch.Size([1, 1, 28, 28])"
      ]
     },
     "execution_count": 38,
     "metadata": {},
     "output_type": "execute_result"
    }
   ],
   "source": [
    "image.shape"
   ]
  },
  {
   "cell_type": "code",
   "execution_count": 39,
   "metadata": {},
   "outputs": [
    {
     "data": {
      "text/plain": [
       "torch.Size([1, 784])"
      ]
     },
     "execution_count": 39,
     "metadata": {},
     "output_type": "execute_result"
    }
   ],
   "source": [
    "flatten = image.view(1, 28 * 28) # 한줄로 펼치기\n",
    "flatten.shape"
   ]
  },
  {
   "cell_type": "code",
   "execution_count": 40,
   "metadata": {},
   "outputs": [
    {
     "data": {
      "text/plain": [
       "torch.Size([1, 10])"
      ]
     },
     "execution_count": 40,
     "metadata": {},
     "output_type": "execute_result"
    }
   ],
   "source": [
    "# 784개를 받아서 10개로 내보낸다\n",
    "# Dense와 같은 것(input_dims = 784, 1번째 매개변수 = 10)\n",
    "lin = nn.Linear(784, 10)(flatten) \n",
    "lin.shape"
   ]
  },
  {
   "cell_type": "code",
   "execution_count": 41,
   "metadata": {},
   "outputs": [
    {
     "data": {
      "text/plain": [
       "tensor([[-0.2507,  0.0252, -0.0056, -0.4682, -0.1734,  0.2265, -0.0829,  0.0398,\n",
       "          0.0562,  0.0771]], grad_fn=<AddmmBackward>)"
      ]
     },
     "execution_count": 41,
     "metadata": {},
     "output_type": "execute_result"
    }
   ],
   "source": [
    "lin"
   ]
  },
  {
   "cell_type": "code",
   "execution_count": 43,
   "metadata": {},
   "outputs": [
    {
     "data": {
      "image/png": "[encoded data removed]",
      "text/plain": [
       "<Figure size 432x288 with 1 Axes>"
      ]
     },
     "metadata": {
      "needs_background": "light"
     },
     "output_type": "display_data"
    }
   ],
   "source": [
    "plt.imshow(lin.detach().numpy(), 'jet')\n",
    "plt.show()"
   ]
  },
  {
   "cell_type": "markdown",
   "metadata": {},
   "source": [
    "### Softmax"
   ]
  },
  {
   "cell_type": "markdown",
   "metadata": {},
   "source": [
    "결과를 numpy로 꺼내기 위해선 weight가 담긴 Linear에 weight를 꺼줘야함"
   ]
  },
  {
   "cell_type": "code",
   "execution_count": 45,
   "metadata": {},
   "outputs": [],
   "source": [
    "# 학습모드에서는 결과를 볼 수 없기에 no_grad 가 필요\n",
    "\n",
    "# default로 autograd를 작동시키기에 no_grad가 없으면 back propogation을 자동으로 실행해서 w를 학습시킨다.\n",
    "# weight 계산을 하게 되면 이는 변동이 가능한 값dlrh, 변동이 일어나기에 그 결과를 볼 수 없다.\n",
    "# 그래서 결과를 보기 위해서는 no_grad를 넣어서 자동 w update를 막는 것이다.\n",
    "\n",
    "with torch.no_grad():\n",
    "    flatten = image.view(1, 28 * 28)\n",
    "    lin = nn.Linear(784, 10)(flatten) # 여기까지 위헤 있던 내용\n",
    "    softmax = F.softmax(lin, dim=1) # Dense로 weight로 계산한 다음 softmax로 filtering"
   ]
  },
  {
   "cell_type": "code",
   "execution_count": 46,
   "metadata": {},
   "outputs": [
    {
     "data": {
      "text/plain": [
       "tensor([[0.1510, 0.0901, 0.0995, 0.0995, 0.0798, 0.0793, 0.0989, 0.0725, 0.1224,\n",
       "         0.1071]])"
      ]
     },
     "execution_count": 46,
     "metadata": {},
     "output_type": "execute_result"
    }
   ],
   "source": [
    "softmax # 각 class(10개) 중 어디에 속할지 확률"
   ]
  },
  {
   "cell_type": "code",
   "execution_count": 47,
   "metadata": {},
   "outputs": [
    {
     "data": {
      "text/plain": [
       "1.0000001"
      ]
     },
     "execution_count": 47,
     "metadata": {},
     "output_type": "execute_result"
    }
   ],
   "source": [
    "np.sum(softmax.numpy())"
   ]
  },
  {
   "cell_type": "markdown",
   "metadata": {},
   "source": [
    "# Layer 쌓기"
   ]
  },
  {
   "cell_type": "markdown",
   "metadata": {},
   "source": [
    "예제 출처: https://pytorch.org/tutorials/beginner/pytorch_with_examples.html#id23"
   ]
  },
  {
   "cell_type": "markdown",
   "metadata": {},
   "source": [
    "nn 과 nn.functional의 차이점\n",
    "- nn은 학습 파라미터가 담긴 것 \n",
    "- nn.functional은 학습 파라미터가 없는 것이라 생각하면 간단"
   ]
  },
  {
   "cell_type": "code",
   "execution_count": 61,
   "metadata": {},
   "outputs": [],
   "source": [
    "# 일반적으로 layer를 class로 만들어서 쌓는다.\n",
    "class Net(nn.Module): \n",
    "    def __init__(self):\n",
    "        # 여기에는 학습이 가능한 것 = weight가 있는 것 을 쓴다.\n",
    "        super(Net, self).__init__()\n",
    "        self.conv1 = nn.Conv2d(1, 20, 5, 1) # in, out, kernal_size, stride\n",
    "        self.conv2 = nn.Conv2d(20, 50, 5, 1) \n",
    "        self.fc1 = nn.Linear(4*4*50, 500) # fully connected\n",
    "        self.fc2 = nn.Linear(500, 10) # 500: 위의 결과를 받음\n",
    "        \n",
    "    def forward(self, x):\n",
    "        # 위의 학습 가능한 요소들로 학습 시작\n",
    "        \n",
    "        # Feature Extraction\n",
    "        x = F.relu(self.conv1(x))\n",
    "        x = F.max_pool2d(x, 2, 2)\n",
    "        x = F.relu(self.conv2(x))\n",
    "        x = F.max_pool2d(x, 2, 2)\n",
    "        \n",
    "        print(x)\n",
    "        print(x.shape)\n",
    "        # Fully Connected (Classficiation)\n",
    "        x = x.view(-1, 4*4*50) # 4*4*50 부분에 어떤 걸 넣어야하는지 모르겠으면 print로 찍은 것의 shape을 보면 됨\n",
    "        x = F.relu(self.fc1(x))\n",
    "        x = self.fc2(x)\n",
    "        return F.log_softmax(x, dim=1)"
   ]
  },
  {
   "cell_type": "markdown",
   "metadata": {},
   "source": [
    "- Image를 Model에 넣어서 결과 확인"
   ]
  },
  {
   "cell_type": "code",
   "execution_count": 62,
   "metadata": {},
   "outputs": [],
   "source": [
    "model = Net()"
   ]
  },
  {
   "cell_type": "code",
   "execution_count": 63,
   "metadata": {},
   "outputs": [
    {
     "name": "stdout",
     "output_type": "stream",
     "text": [
      "tensor([[[[3.1605e-01, 3.4131e-01, 4.4187e-01, 4.3743e-01],\n",
      "          [3.3141e-01, 5.1719e-01, 4.6009e-01, 3.5148e-01],\n",
      "          [1.2570e-01, 2.9815e-01, 3.5870e-01, 3.2957e-01],\n",
      "          [1.5107e-01, 3.2693e-01, 5.4810e-01, 3.4752e-01]],\n",
      "\n",
      "         [[2.4694e-01, 1.9178e-01, 1.6219e-01, 7.9269e-02],\n",
      "          [2.6936e-01, 2.1903e-01, 5.1180e-02, 0.0000e+00],\n",
      "          [1.7747e-01, 2.1208e-01, 2.4895e-01, 0.0000e+00],\n",
      "          [1.5213e-01, 1.4525e-01, 1.5625e-01, 0.0000e+00]],\n",
      "\n",
      "         [[0.0000e+00, 0.0000e+00, 1.2151e-01, 2.7154e-01],\n",
      "          [9.7378e-02, 3.6982e-02, 1.0825e-01, 1.4586e-01],\n",
      "          [4.9580e-02, 0.0000e+00, 0.0000e+00, 2.1639e-01],\n",
      "          [0.0000e+00, 0.0000e+00, 1.2114e-01, 2.9752e-01]],\n",
      "\n",
      "         [[1.5932e-02, 3.8783e-01, 3.5485e-01, 2.2845e-01],\n",
      "          [1.7671e-01, 3.3649e-01, 2.0813e-01, 9.2106e-02],\n",
      "          [1.7581e-01, 1.2124e-01, 8.6105e-02, 2.1308e-01],\n",
      "          [6.2786e-02, 1.6171e-01, 2.6499e-01, 2.2795e-01]],\n",
      "\n",
      "         [[0.0000e+00, 3.0847e-02, 9.4189e-02, 0.0000e+00],\n",
      "          [0.0000e+00, 0.0000e+00, 5.1205e-02, 0.0000e+00],\n",
      "          [5.0477e-02, 0.0000e+00, 5.5246e-02, 1.3759e-01],\n",
      "          [7.8464e-02, 1.1789e-01, 1.5970e-03, 1.2233e-01]],\n",
      "\n",
      "         [[4.4735e-02, 1.2404e-01, 1.9427e-01, 2.8372e-01],\n",
      "          [1.7231e-01, 2.5380e-01, 2.1110e-01, 8.6861e-02],\n",
      "          [1.3818e-01, 1.1041e-01, 2.2738e-03, 1.1480e-01],\n",
      "          [5.2770e-02, 0.0000e+00, 1.2835e-01, 2.5955e-01]],\n",
      "\n",
      "         [[1.0087e-01, 1.7375e-01, 3.4720e-01, 1.9781e-01],\n",
      "          [3.0342e-01, 4.7160e-01, 6.2627e-01, 4.5419e-01],\n",
      "          [1.8969e-01, 3.4375e-01, 2.7719e-01, 3.1109e-01],\n",
      "          [2.2194e-01, 3.0778e-01, 3.6244e-01, 2.5104e-01]],\n",
      "\n",
      "         [[0.0000e+00, 0.0000e+00, 0.0000e+00, 0.0000e+00],\n",
      "          [0.0000e+00, 0.0000e+00, 2.3018e-02, 0.0000e+00],\n",
      "          [0.0000e+00, 0.0000e+00, 1.0244e-01, 0.0000e+00],\n",
      "          [0.0000e+00, 0.0000e+00, 0.0000e+00, 0.0000e+00]],\n",
      "\n",
      "         [[1.2068e-01, 1.3674e-01, 1.7123e-01, 1.7458e-01],\n",
      "          [1.9683e-01, 1.9007e-01, 1.4983e-01, 9.5594e-03],\n",
      "          [0.0000e+00, 5.8025e-02, 8.2207e-02, 8.4164e-02],\n",
      "          [7.5239e-03, 9.9464e-03, 1.6330e-01, 9.0885e-02]],\n",
      "\n",
      "         [[2.3417e-01, 1.0497e-01, 0.0000e+00, 0.0000e+00],\n",
      "          [2.3734e-01, 3.1942e-01, 5.8939e-02, 4.5538e-02],\n",
      "          [1.6950e-02, 1.4380e-01, 1.4327e-01, 0.0000e+00],\n",
      "          [5.2321e-02, 2.0582e-01, 1.6765e-01, 9.3591e-02]],\n",
      "\n",
      "         [[0.0000e+00, 0.0000e+00, 0.0000e+00, 0.0000e+00],\n",
      "          [0.0000e+00, 0.0000e+00, 0.0000e+00, 0.0000e+00],\n",
      "          [0.0000e+00, 0.0000e+00, 0.0000e+00, 8.9456e-02],\n",
      "          [0.0000e+00, 0.0000e+00, 0.0000e+00, 0.0000e+00]],\n",
      "\n",
      "         [[5.4752e-01, 4.0478e-01, 2.4266e-01, 1.5777e-01],\n",
      "          [4.8371e-01, 5.9820e-01, 2.1329e-01, 5.5760e-02],\n",
      "          [9.3356e-02, 4.2534e-01, 4.6419e-01, 1.5998e-02],\n",
      "          [1.3193e-01, 2.9688e-01, 3.8960e-01, 2.6425e-01]],\n",
      "\n",
      "         [[0.0000e+00, 0.0000e+00, 0.0000e+00, 3.9792e-02],\n",
      "          [9.7721e-02, 9.8144e-02, 1.7292e-01, 0.0000e+00],\n",
      "          [8.6780e-02, 0.0000e+00, 0.0000e+00, 0.0000e+00],\n",
      "          [3.2019e-04, 2.9980e-02, 0.0000e+00, 0.0000e+00]],\n",
      "\n",
      "         [[0.0000e+00, 1.9979e-02, 0.0000e+00, 0.0000e+00],\n",
      "          [6.4976e-02, 0.0000e+00, 0.0000e+00, 0.0000e+00],\n",
      "          [0.0000e+00, 0.0000e+00, 0.0000e+00, 0.0000e+00],\n",
      "          [0.0000e+00, 0.0000e+00, 1.2548e-01, 0.0000e+00]],\n",
      "\n",
      "         [[9.3929e-02, 6.3490e-02, 1.5741e-01, 3.2995e-02],\n",
      "          [1.3627e-01, 2.3622e-01, 3.0517e-01, 2.4863e-01],\n",
      "          [7.3318e-02, 1.2991e-01, 2.4836e-01, 7.1806e-02],\n",
      "          [1.0895e-01, 5.8442e-02, 2.9834e-02, 1.6141e-01]],\n",
      "\n",
      "         [[0.0000e+00, 0.0000e+00, 1.3935e-01, 1.1069e-01],\n",
      "          [6.1451e-02, 1.2016e-01, 3.0407e-01, 2.0688e-01],\n",
      "          [0.0000e+00, 0.0000e+00, 0.0000e+00, 1.4145e-01],\n",
      "          [0.0000e+00, 0.0000e+00, 2.1508e-01, 2.2605e-01]],\n",
      "\n",
      "         [[2.2976e-01, 1.9019e-01, 6.4758e-02, 0.0000e+00],\n",
      "          [2.9756e-01, 3.1230e-01, 2.6346e-01, 1.0909e-01],\n",
      "          [2.3022e-01, 2.5543e-01, 2.0978e-01, 2.6142e-02],\n",
      "          [1.8794e-01, 2.7072e-01, 1.7437e-01, 0.0000e+00]],\n",
      "\n",
      "         [[4.3792e-02, 4.6741e-01, 4.1832e-01, 3.9955e-01],\n",
      "          [3.7137e-01, 5.6036e-01, 6.7403e-01, 6.3766e-01],\n",
      "          [2.5738e-01, 3.3335e-01, 3.6837e-01, 2.8622e-01],\n",
      "          [9.4794e-02, 1.1644e-01, 3.4856e-01, 4.1236e-01]],\n",
      "\n",
      "         [[4.3804e-01, 5.8681e-01, 5.3932e-01, 3.2481e-01],\n",
      "          [3.3804e-01, 2.1875e-01, 1.0778e-02, 4.3379e-03],\n",
      "          [8.8607e-02, 1.6625e-01, 2.6548e-01, 2.7712e-01],\n",
      "          [5.0516e-01, 5.9715e-01, 5.1828e-01, 1.7487e-01]],\n",
      "\n",
      "         [[1.6270e-01, 2.9465e-01, 2.5826e-01, 1.4234e-01],\n",
      "          [0.0000e+00, 3.4755e-03, 0.0000e+00, 0.0000e+00],\n",
      "          [0.0000e+00, 0.0000e+00, 1.3182e-01, 7.2209e-02],\n",
      "          [9.4368e-02, 5.8339e-02, 6.5184e-02, 3.8657e-02]],\n",
      "\n",
      "         [[1.9697e-01, 4.5443e-01, 3.0882e-01, 3.0356e-01],\n",
      "          [2.6841e-01, 3.3771e-01, 4.1672e-01, 2.4241e-01],\n",
      "          [2.7121e-01, 3.8579e-01, 4.0007e-01, 3.0611e-01],\n",
      "          [2.9751e-01, 2.5241e-01, 2.5172e-01, 2.8482e-01]],\n",
      "\n",
      "         [[0.0000e+00, 0.0000e+00, 0.0000e+00, 0.0000e+00],\n",
      "          [0.0000e+00, 0.0000e+00, 0.0000e+00, 9.5765e-02],\n",
      "          [0.0000e+00, 0.0000e+00, 0.0000e+00, 2.6114e-02],\n",
      "          [0.0000e+00, 0.0000e+00, 0.0000e+00, 3.9554e-02]],\n",
      "\n",
      "         [[1.3543e-01, 8.8674e-04, 0.0000e+00, 0.0000e+00],\n",
      "          [1.4535e-01, 8.4383e-02, 5.9547e-03, 1.5127e-01],\n",
      "          [1.2825e-01, 1.9132e-02, 8.2835e-03, 0.0000e+00],\n",
      "          [9.1354e-02, 1.2847e-01, 8.8224e-03, 0.0000e+00]],\n",
      "\n",
      "         [[2.1660e-01, 2.8772e-01, 2.5575e-01, 2.5839e-01],\n",
      "          [1.4616e-01, 2.6304e-01, 1.2623e-01, 0.0000e+00],\n",
      "          [1.3890e-02, 1.8780e-01, 1.6439e-01, 1.0829e-01],\n",
      "          [2.9353e-02, 2.2079e-01, 3.3655e-01, 2.9905e-01]],\n",
      "\n",
      "         [[0.0000e+00, 0.0000e+00, 0.0000e+00, 0.0000e+00],\n",
      "          [2.5395e-01, 2.9869e-02, 1.5616e-01, 2.1343e-01],\n",
      "          [1.8316e-01, 1.2321e-01, 5.0120e-03, 1.0196e-01],\n",
      "          [9.5713e-02, 1.4273e-01, 0.0000e+00, 0.0000e+00]],\n",
      "\n",
      "         [[3.9574e-02, 0.0000e+00, 0.0000e+00, 5.3051e-03],\n",
      "          [2.5831e-02, 0.0000e+00, 0.0000e+00, 3.5652e-02],\n",
      "          [9.6035e-02, 1.7948e-01, 0.0000e+00, 0.0000e+00],\n",
      "          [1.2937e-01, 6.5228e-02, 0.0000e+00, 0.0000e+00]],\n",
      "\n",
      "         [[1.4822e-01, 1.4137e-01, 0.0000e+00, 0.0000e+00],\n",
      "          [3.6287e-01, 2.7699e-01, 2.5111e-01, 2.5857e-01],\n",
      "          [2.3235e-01, 4.5712e-01, 3.6146e-01, 4.2093e-03],\n",
      "          [3.5151e-01, 3.7907e-01, 3.0875e-01, 0.0000e+00]],\n",
      "\n",
      "         [[4.1079e-02, 0.0000e+00, 0.0000e+00, 2.7377e-02],\n",
      "          [0.0000e+00, 0.0000e+00, 0.0000e+00, 0.0000e+00],\n",
      "          [0.0000e+00, 8.1519e-03, 3.2533e-02, 4.6090e-02],\n",
      "          [3.6960e-02, 8.4229e-03, 0.0000e+00, 5.7444e-04]],\n",
      "\n",
      "         [[1.4140e-01, 0.0000e+00, 1.2141e-01, 4.5527e-02],\n",
      "          [5.1676e-02, 2.1039e-01, 2.1744e-02, 8.8976e-02],\n",
      "          [3.4487e-02, 2.0503e-01, 1.4446e-01, 0.0000e+00],\n",
      "          [4.0217e-02, 0.0000e+00, 6.1303e-02, 1.8113e-01]],\n",
      "\n",
      "         [[3.7788e-01, 4.3466e-01, 3.5272e-01, 2.5849e-01],\n",
      "          [5.7923e-01, 8.3595e-01, 6.9700e-01, 5.7974e-01],\n",
      "          [4.2446e-01, 7.8535e-01, 6.8159e-01, 3.5646e-01],\n",
      "          [3.1647e-01, 5.3418e-01, 7.2197e-01, 4.4910e-01]],\n",
      "\n",
      "         [[8.4516e-02, 3.1601e-02, 0.0000e+00, 1.1400e-02],\n",
      "          [0.0000e+00, 0.0000e+00, 0.0000e+00, 0.0000e+00],\n",
      "          [0.0000e+00, 4.9920e-02, 1.1043e-03, 0.0000e+00],\n",
      "          [0.0000e+00, 0.0000e+00, 0.0000e+00, 0.0000e+00]],\n",
      "\n",
      "         [[0.0000e+00, 0.0000e+00, 0.0000e+00, 0.0000e+00],\n",
      "          [0.0000e+00, 0.0000e+00, 0.0000e+00, 0.0000e+00],\n",
      "          [0.0000e+00, 0.0000e+00, 0.0000e+00, 0.0000e+00],\n",
      "          [0.0000e+00, 0.0000e+00, 0.0000e+00, 0.0000e+00]],\n",
      "\n",
      "         [[3.7303e-01, 3.6062e-01, 3.5447e-01, 3.1895e-01],\n",
      "          [0.0000e+00, 3.1824e-01, 2.1870e-01, 8.1246e-02],\n",
      "          [1.5758e-01, 2.6557e-01, 4.7006e-01, 3.3902e-01],\n",
      "          [2.9352e-01, 2.9082e-01, 3.3592e-01, 2.6067e-01]],\n",
      "\n",
      "         [[1.3559e-01, 2.1050e-01, 1.8758e-01, 6.1597e-02],\n",
      "          [0.0000e+00, 0.0000e+00, 1.1489e-01, 1.2787e-01],\n",
      "          [1.0320e-01, 0.0000e+00, 1.9584e-01, 2.1419e-01],\n",
      "          [2.1190e-01, 1.5695e-01, 0.0000e+00, 1.3055e-01]],\n",
      "\n",
      "         [[0.0000e+00, 8.6550e-02, 1.2959e-01, 5.0747e-02],\n",
      "          [0.0000e+00, 0.0000e+00, 0.0000e+00, 5.1898e-02],\n",
      "          [0.0000e+00, 0.0000e+00, 2.5253e-02, 2.3069e-01],\n",
      "          [9.8713e-03, 0.0000e+00, 0.0000e+00, 4.9867e-02]],\n",
      "\n",
      "         [[3.3362e-01, 2.3858e-01, 0.0000e+00, 0.0000e+00],\n",
      "          [3.0975e-01, 3.2819e-01, 1.9579e-01, 0.0000e+00],\n",
      "          [3.6131e-02, 3.0057e-01, 2.2934e-01, 0.0000e+00],\n",
      "          [1.5039e-01, 1.0599e-01, 1.1240e-01, 0.0000e+00]],\n",
      "\n",
      "         [[0.0000e+00, 0.0000e+00, 1.7098e-01, 1.9664e-01],\n",
      "          [0.0000e+00, 1.2489e-02, 1.3760e-01, 1.7428e-01],\n",
      "          [0.0000e+00, 0.0000e+00, 4.2157e-02, 1.5718e-01],\n",
      "          [0.0000e+00, 0.0000e+00, 1.1486e-01, 2.9500e-01]],\n",
      "\n",
      "         [[7.5736e-02, 0.0000e+00, 0.0000e+00, 0.0000e+00],\n",
      "          [0.0000e+00, 0.0000e+00, 0.0000e+00, 0.0000e+00],\n",
      "          [0.0000e+00, 2.8966e-03, 7.3941e-02, 0.0000e+00],\n",
      "          [7.1886e-02, 8.4475e-02, 0.0000e+00, 0.0000e+00]],\n",
      "\n",
      "         [[2.6552e-02, 0.0000e+00, 0.0000e+00, 0.0000e+00],\n",
      "          [1.2348e-01, 9.1780e-02, 0.0000e+00, 2.2083e-03],\n",
      "          [4.9154e-02, 3.3408e-02, 0.0000e+00, 0.0000e+00],\n",
      "          [0.0000e+00, 4.2605e-02, 9.8938e-02, 0.0000e+00]],\n",
      "\n",
      "         [[1.5029e-01, 2.6449e-01, 4.9727e-02, 0.0000e+00],\n",
      "          [0.0000e+00, 1.2690e-01, 1.7006e-01, 0.0000e+00],\n",
      "          [7.1502e-02, 1.8516e-01, 7.8628e-02, 9.6895e-02],\n",
      "          [1.5115e-01, 0.0000e+00, 7.8777e-02, 1.1098e-01]],\n",
      "\n",
      "         [[0.0000e+00, 0.0000e+00, 2.2893e-03, 3.0830e-02],\n",
      "          [0.0000e+00, 0.0000e+00, 0.0000e+00, 0.0000e+00],\n",
      "          [0.0000e+00, 0.0000e+00, 0.0000e+00, 0.0000e+00],\n",
      "          [0.0000e+00, 0.0000e+00, 0.0000e+00, 2.0664e-01]],\n",
      "\n",
      "         [[1.4355e-01, 1.0423e-01, 1.2913e-01, 4.8873e-02],\n",
      "          [9.5537e-02, 1.2539e-01, 0.0000e+00, 0.0000e+00],\n",
      "          [0.0000e+00, 8.1835e-02, 1.4029e-01, 1.6621e-02],\n",
      "          [5.8929e-02, 9.7392e-02, 1.1982e-01, 1.7370e-02]],\n",
      "\n",
      "         [[1.5545e-01, 3.1160e-01, 2.6036e-01, 2.2392e-01],\n",
      "          [1.3621e-01, 2.3192e-01, 2.8686e-01, 2.7750e-01],\n",
      "          [1.5648e-01, 2.5347e-01, 2.5235e-01, 2.7726e-01],\n",
      "          [2.0248e-01, 2.1728e-01, 2.8592e-01, 2.4116e-01]],\n",
      "\n",
      "         [[0.0000e+00, 0.0000e+00, 6.2085e-02, 1.5594e-01],\n",
      "          [0.0000e+00, 0.0000e+00, 1.7526e-01, 1.5634e-01],\n",
      "          [0.0000e+00, 0.0000e+00, 0.0000e+00, 2.5037e-01],\n",
      "          [0.0000e+00, 0.0000e+00, 5.8636e-02, 1.2143e-01]],\n",
      "\n",
      "         [[0.0000e+00, 0.0000e+00, 0.0000e+00, 0.0000e+00],\n",
      "          [0.0000e+00, 0.0000e+00, 0.0000e+00, 3.1697e-03],\n",
      "          [0.0000e+00, 0.0000e+00, 0.0000e+00, 9.0632e-03],\n",
      "          [0.0000e+00, 0.0000e+00, 0.0000e+00, 0.0000e+00]],\n",
      "\n",
      "         [[0.0000e+00, 1.8040e-02, 6.4132e-02, 1.6407e-02],\n",
      "          [5.6834e-02, 0.0000e+00, 0.0000e+00, 0.0000e+00],\n",
      "          [5.0610e-02, 3.5462e-02, 0.0000e+00, 4.5135e-02],\n",
      "          [1.9747e-03, 0.0000e+00, 1.8162e-02, 6.0174e-03]],\n",
      "\n",
      "         [[2.0888e-01, 2.5994e-01, 2.4329e-01, 1.9692e-01],\n",
      "          [2.1465e-01, 4.1342e-01, 2.5973e-01, 7.9298e-02],\n",
      "          [1.2995e-01, 1.4225e-01, 9.5122e-02, 8.7963e-02],\n",
      "          [1.6609e-01, 2.2104e-01, 2.4887e-01, 1.2449e-01]],\n",
      "\n",
      "         [[2.7921e-02, 2.8256e-01, 4.0089e-01, 3.7446e-01],\n",
      "          [5.5708e-02, 3.1539e-01, 4.8695e-01, 2.8300e-01],\n",
      "          [1.1796e-01, 1.5723e-01, 1.8448e-01, 2.9059e-01],\n",
      "          [2.0321e-01, 1.3368e-01, 3.5228e-01, 2.8772e-01]],\n",
      "\n",
      "         [[6.6586e-02, 2.7355e-01, 2.9920e-01, 2.4965e-01],\n",
      "          [4.3439e-02, 1.5316e-01, 2.1807e-01, 2.7080e-01],\n",
      "          [0.0000e+00, 1.7864e-01, 3.8054e-01, 2.9465e-01],\n",
      "          [2.0455e-01, 2.5003e-01, 3.3320e-01, 2.2895e-01]],\n",
      "\n",
      "         [[1.1712e-01, 4.1273e-03, 0.0000e+00, 0.0000e+00],\n",
      "          [1.4255e-01, 7.6986e-02, 1.2217e-01, 1.0467e-01],\n",
      "          [9.2627e-02, 1.2245e-01, 2.7803e-02, 0.0000e+00],\n",
      "          [2.8120e-02, 4.7351e-02, 4.7893e-03, 0.0000e+00]]]],\n",
      "       grad_fn=<MaxPool2DWithIndicesBackward>)\n",
      "torch.Size([1, 50, 4, 4])\n"
     ]
    }
   ],
   "source": [
    "result = model.forward(image) # print 내용"
   ]
  },
  {
   "cell_type": "code",
   "execution_count": 64,
   "metadata": {},
   "outputs": [
    {
     "data": {
      "text/plain": [
       "torch.Size([1, 10])"
      ]
     },
     "execution_count": 64,
     "metadata": {},
     "output_type": "execute_result"
    }
   ],
   "source": [
    "result.shape"
   ]
  },
  {
   "cell_type": "code",
   "execution_count": 65,
   "metadata": {},
   "outputs": [
    {
     "data": {
      "text/plain": [
       "tensor([[-2.3228, -2.2600, -2.2700, -2.3033, -2.3425, -2.2941, -2.3248, -2.2423,\n",
       "         -2.3319, -2.3399]], grad_fn=<LogSoftmaxBackward>)"
      ]
     },
     "execution_count": 65,
     "metadata": {},
     "output_type": "execute_result"
    }
   ],
   "source": [
    "result"
   ]
  },
  {
   "cell_type": "code",
   "execution_count": 66,
   "metadata": {},
   "outputs": [
    {
     "data": {
      "text/plain": [
       "Conv2d(1, 20, kernel_size=(5, 5), stride=(1, 1))"
      ]
     },
     "execution_count": 66,
     "metadata": {},
     "output_type": "execute_result"
    }
   ],
   "source": [
    "model.conv1 # 위에서 우리가 만든 conv"
   ]
  }
 ],
 "metadata": {
  "kernelspec": {
   "display_name": "Python 3",
   "language": "python",
   "name": "python3"
  },
  "language_info": {
   "codemirror_mode": {
    "name": "ipython",
    "version": 3
   },
   "file_extension": ".py",
   "mimetype": "text/x-python",
   "name": "python",
   "nbconvert_exporter": "python",
   "pygments_lexer": "ipython3",
   "version": "3.7.6"
  }
 },
 "nbformat": 4,
 "nbformat_minor": 4
}
