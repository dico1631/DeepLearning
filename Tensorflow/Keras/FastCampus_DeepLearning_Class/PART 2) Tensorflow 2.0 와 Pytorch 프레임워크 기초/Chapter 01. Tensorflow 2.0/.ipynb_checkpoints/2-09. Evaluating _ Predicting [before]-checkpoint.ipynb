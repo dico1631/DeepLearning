{
 "cells": [
  {
   "cell_type": "markdown",
   "metadata": {},
   "source": [
    "# TensorFlow: Evaluating & Prediction"
   ]
  },
  {
   "cell_type": "code",
   "execution_count": 1,
   "metadata": {},
   "outputs": [
    {
     "name": "stderr",
     "output_type": "stream",
     "text": [
      "C:\\Users\\student\\.conda\\envs\\deeplearning\\lib\\site-packages\\tensorflow\\python\\framework\\dtypes.py:516: FutureWarning: Passing (type, 1) or '1type' as a synonym of type is deprecated; in a future version of numpy, it will be understood as (type, (1,)) / '(1,)type'.\n",
      "  _np_qint8 = np.dtype([(\"qint8\", np.int8, 1)])\n",
      "C:\\Users\\student\\.conda\\envs\\deeplearning\\lib\\site-packages\\tensorflow\\python\\framework\\dtypes.py:517: FutureWarning: Passing (type, 1) or '1type' as a synonym of type is deprecated; in a future version of numpy, it will be understood as (type, (1,)) / '(1,)type'.\n",
      "  _np_quint8 = np.dtype([(\"quint8\", np.uint8, 1)])\n",
      "C:\\Users\\student\\.conda\\envs\\deeplearning\\lib\\site-packages\\tensorflow\\python\\framework\\dtypes.py:518: FutureWarning: Passing (type, 1) or '1type' as a synonym of type is deprecated; in a future version of numpy, it will be understood as (type, (1,)) / '(1,)type'.\n",
      "  _np_qint16 = np.dtype([(\"qint16\", np.int16, 1)])\n",
      "C:\\Users\\student\\.conda\\envs\\deeplearning\\lib\\site-packages\\tensorflow\\python\\framework\\dtypes.py:519: FutureWarning: Passing (type, 1) or '1type' as a synonym of type is deprecated; in a future version of numpy, it will be understood as (type, (1,)) / '(1,)type'.\n",
      "  _np_quint16 = np.dtype([(\"quint16\", np.uint16, 1)])\n",
      "C:\\Users\\student\\.conda\\envs\\deeplearning\\lib\\site-packages\\tensorflow\\python\\framework\\dtypes.py:520: FutureWarning: Passing (type, 1) or '1type' as a synonym of type is deprecated; in a future version of numpy, it will be understood as (type, (1,)) / '(1,)type'.\n",
      "  _np_qint32 = np.dtype([(\"qint32\", np.int32, 1)])\n",
      "C:\\Users\\student\\.conda\\envs\\deeplearning\\lib\\site-packages\\tensorflow\\python\\framework\\dtypes.py:525: FutureWarning: Passing (type, 1) or '1type' as a synonym of type is deprecated; in a future version of numpy, it will be understood as (type, (1,)) / '(1,)type'.\n",
      "  np_resource = np.dtype([(\"resource\", np.ubyte, 1)])\n",
      "C:\\Users\\student\\.conda\\envs\\deeplearning\\lib\\site-packages\\tensorboard\\compat\\tensorflow_stub\\dtypes.py:541: FutureWarning: Passing (type, 1) or '1type' as a synonym of type is deprecated; in a future version of numpy, it will be understood as (type, (1,)) / '(1,)type'.\n",
      "  _np_qint8 = np.dtype([(\"qint8\", np.int8, 1)])\n",
      "C:\\Users\\student\\.conda\\envs\\deeplearning\\lib\\site-packages\\tensorboard\\compat\\tensorflow_stub\\dtypes.py:542: FutureWarning: Passing (type, 1) or '1type' as a synonym of type is deprecated; in a future version of numpy, it will be understood as (type, (1,)) / '(1,)type'.\n",
      "  _np_quint8 = np.dtype([(\"quint8\", np.uint8, 1)])\n",
      "C:\\Users\\student\\.conda\\envs\\deeplearning\\lib\\site-packages\\tensorboard\\compat\\tensorflow_stub\\dtypes.py:543: FutureWarning: Passing (type, 1) or '1type' as a synonym of type is deprecated; in a future version of numpy, it will be understood as (type, (1,)) / '(1,)type'.\n",
      "  _np_qint16 = np.dtype([(\"qint16\", np.int16, 1)])\n",
      "C:\\Users\\student\\.conda\\envs\\deeplearning\\lib\\site-packages\\tensorboard\\compat\\tensorflow_stub\\dtypes.py:544: FutureWarning: Passing (type, 1) or '1type' as a synonym of type is deprecated; in a future version of numpy, it will be understood as (type, (1,)) / '(1,)type'.\n",
      "  _np_quint16 = np.dtype([(\"quint16\", np.uint16, 1)])\n",
      "C:\\Users\\student\\.conda\\envs\\deeplearning\\lib\\site-packages\\tensorboard\\compat\\tensorflow_stub\\dtypes.py:545: FutureWarning: Passing (type, 1) or '1type' as a synonym of type is deprecated; in a future version of numpy, it will be understood as (type, (1,)) / '(1,)type'.\n",
      "  _np_qint32 = np.dtype([(\"qint32\", np.int32, 1)])\n",
      "C:\\Users\\student\\.conda\\envs\\deeplearning\\lib\\site-packages\\tensorboard\\compat\\tensorflow_stub\\dtypes.py:550: FutureWarning: Passing (type, 1) or '1type' as a synonym of type is deprecated; in a future version of numpy, it will be understood as (type, (1,)) / '(1,)type'.\n",
      "  np_resource = np.dtype([(\"resource\", np.ubyte, 1)])\n"
     ]
    }
   ],
   "source": [
    "import tensorflow as tf\n",
    "from tensorflow.keras import layers\n",
    "\n",
    "from tensorflow.keras import datasets "
   ]
  },
  {
   "cell_type": "markdown",
   "metadata": {},
   "source": [
    "# Build Model"
   ]
  },
  {
   "cell_type": "code",
   "execution_count": 3,
   "metadata": {},
   "outputs": [],
   "source": [
    "input_shape = (28, 28, 1)\n",
    "num_classes = 10\n",
    "\n",
    "learning_rate = 0.001"
   ]
  },
  {
   "cell_type": "code",
   "execution_count": 4,
   "metadata": {},
   "outputs": [],
   "source": [
    "inputs = layers.Input(input_shape)\n",
    "net = layers.Conv2D(32, (3, 3), padding='SAME')(inputs)\n",
    "net = layers.Activation('relu')(net)\n",
    "net = layers.Conv2D(32, (3, 3), padding='SAME')(net)\n",
    "net = layers.Activation('relu')(net)\n",
    "net = layers.MaxPooling2D(pool_size=(2, 2))(net)\n",
    "net = layers.Dropout(0.5)(net)\n",
    "\n",
    "net = layers.Conv2D(64, (3, 3), padding='SAME')(net)\n",
    "net = layers.Activation('relu')(net)\n",
    "net = layers.Conv2D(64, (3, 3), padding='SAME')(net)\n",
    "net = layers.Activation('relu')(net)\n",
    "net = layers.MaxPooling2D(pool_size=(2, 2))(net)\n",
    "net = layers.Dropout(0.5)(net)\n",
    "\n",
    "net = layers.Flatten()(net)\n",
    "net = layers.Dense(512)(net)\n",
    "net = layers.Activation('relu')(net)\n",
    "net = layers.Dropout(0.5)(net)\n",
    "net = layers.Dense(num_classes)(net)\n",
    "net = layers.Activation('softmax')(net)\n",
    "\n",
    "model = tf.keras.Model(inputs=inputs, outputs=net, name='Basic_CNN')"
   ]
  },
  {
   "cell_type": "code",
   "execution_count": 5,
   "metadata": {},
   "outputs": [],
   "source": [
    "# Model is the full model w/o custom layers\n",
    "model.compile(optimizer=tf.keras.optimizers.Adam(learning_rate),\n",
    "              loss='sparse_categorical_crossentropy',\n",
    "              metrics=['accuracy'])"
   ]
  },
  {
   "cell_type": "markdown",
   "metadata": {},
   "source": [
    "# Preprocess"
   ]
  },
  {
   "cell_type": "markdown",
   "metadata": {},
   "source": [
    "데이터셋 불러오기 "
   ]
  },
  {
   "cell_type": "code",
   "execution_count": 6,
   "metadata": {},
   "outputs": [],
   "source": [
    "(train_x, train_y), (test_x, test_y) = datasets.mnist.load_data()"
   ]
  },
  {
   "cell_type": "code",
   "execution_count": 7,
   "metadata": {},
   "outputs": [],
   "source": [
    "train_x = train_x[..., tf.newaxis]\n",
    "test_x = test_x[..., tf.newaxis]\n",
    "\n",
    "train_x = train_x / 255.\n",
    "test_x = test_x / 255."
   ]
  },
  {
   "cell_type": "markdown",
   "metadata": {},
   "source": [
    "# Training"
   ]
  },
  {
   "cell_type": "code",
   "execution_count": 8,
   "metadata": {},
   "outputs": [],
   "source": [
    "num_epochs = 1\n",
    "batch_size = 64"
   ]
  },
  {
   "cell_type": "code",
   "execution_count": 9,
   "metadata": {},
   "outputs": [
    {
     "name": "stdout",
     "output_type": "stream",
     "text": [
      "WARNING:tensorflow:From C:\\Users\\student\\.conda\\envs\\deeplearning\\lib\\site-packages\\tensorflow\\python\\ops\\math_grad.py:1250: add_dispatch_support.<locals>.wrapper (from tensorflow.python.ops.array_ops) is deprecated and will be removed in a future version.\n",
      "Instructions for updating:\n",
      "Use tf.where in 2.0, which has the same broadcast rule as np.where\n",
      "Train on 60000 samples\n",
      "60000/60000 [==============================] - 101s 2ms/sample - loss: 0.2191 - accuracy: 0.9284\n"
     ]
    }
   ],
   "source": [
    "hist = model.fit(train_x, train_y, \n",
    "                 batch_size=batch_size, \n",
    "                 shuffle=True)"
   ]
  },
  {
   "cell_type": "code",
   "execution_count": 10,
   "metadata": {},
   "outputs": [
    {
     "data": {
      "text/plain": [
       "{'loss': [0.2190684765825669], 'accuracy': [0.92841667]}"
      ]
     },
     "execution_count": 10,
     "metadata": {},
     "output_type": "execute_result"
    }
   ],
   "source": [
    "hist.history"
   ]
  },
  {
   "cell_type": "markdown",
   "metadata": {},
   "source": [
    "# Evaluating  \n",
    "- 학습한 모델 확인"
   ]
  },
  {
   "cell_type": "code",
   "execution_count": 11,
   "metadata": {},
   "outputs": [
    {
     "name": "stdout",
     "output_type": "stream",
     "text": [
      "10000/10000 [==============================] - 3s 323us/sample - loss: 0.0403 - accuracy: 0.9869\n"
     ]
    },
    {
     "data": {
      "text/plain": [
       "[0.040269311646348796, 0.9869]"
      ]
     },
     "execution_count": 11,
     "metadata": {},
     "output_type": "execute_result"
    }
   ],
   "source": [
    "# 위에서 나온 순서와 같이 loss와 accuracy 순으로 나옴\n",
    "# test_y : 평가를 위한 정답 레이블\n",
    "model.evaluate(test_x, test_y, batch_size=batch_size)"
   ]
  },
  {
   "cell_type": "markdown",
   "metadata": {},
   "source": [
    "### 결과 확인"
   ]
  },
  {
   "cell_type": "markdown",
   "metadata": {},
   "source": [
    "Input으로 들어갈 이미지 데이터 확인"
   ]
  },
  {
   "cell_type": "code",
   "execution_count": 12,
   "metadata": {},
   "outputs": [],
   "source": [
    "import matplotlib.pyplot as plt\n",
    "\n",
    "import numpy as np\n",
    "\n",
    "%matplotlib inline"
   ]
  },
  {
   "cell_type": "code",
   "execution_count": 13,
   "metadata": {},
   "outputs": [
    {
     "data": {
      "text/plain": [
       "(28, 28)"
      ]
     },
     "execution_count": 13,
     "metadata": {},
     "output_type": "execute_result"
    }
   ],
   "source": [
    "test_image = test_x[0, :, :, 0]\n",
    "test_image.shape"
   ]
  },
  {
   "cell_type": "code",
   "execution_count": 16,
   "metadata": {},
   "outputs": [
    {
     "data": {
      "image/png": "[encoded data removed]",
      "text/plain": [
       "<Figure size 432x288 with 1 Axes>"
      ]
     },
     "metadata": {
      "needs_background": "light"
     },
     "output_type": "display_data"
    }
   ],
   "source": [
    "plt.imshow(test_image, 'gray')\n",
    "plt.show()"
   ]
  },
  {
   "cell_type": "markdown",
   "metadata": {},
   "source": [
    "- 모델에 Input Data로 확인 할 이미지 데이터 넣기"
   ]
  },
  {
   "cell_type": "code",
   "execution_count": 17,
   "metadata": {},
   "outputs": [
    {
     "data": {
      "text/plain": [
       "(28, 28)"
      ]
     },
     "execution_count": 17,
     "metadata": {},
     "output_type": "execute_result"
    }
   ],
   "source": [
    "test_image.shape"
   ]
  },
  {
   "cell_type": "code",
   "execution_count": 18,
   "metadata": {},
   "outputs": [],
   "source": [
    "# 자동으로 evaluate 모드로 돌아감\n",
    "pred = model.predict(test_image.reshape(1,28,28,1))"
   ]
  },
  {
   "cell_type": "code",
   "execution_count": 19,
   "metadata": {},
   "outputs": [
    {
     "data": {
      "text/plain": [
       "(1, 10)"
      ]
     },
     "execution_count": 19,
     "metadata": {},
     "output_type": "execute_result"
    }
   ],
   "source": [
    "pred.shape"
   ]
  },
  {
   "cell_type": "code",
   "execution_count": 20,
   "metadata": {},
   "outputs": [
    {
     "data": {
      "text/plain": [
       "array([[3.9928141e-09, 9.9784847e-10, 5.9488053e-07, 3.8052895e-07,\n",
       "        7.8073242e-10, 1.4207784e-10, 9.7742018e-13, 9.9999845e-01,\n",
       "        9.8815889e-10, 6.2479063e-07]], dtype=float32)"
      ]
     },
     "execution_count": 20,
     "metadata": {},
     "output_type": "execute_result"
    }
   ],
   "source": [
    "# 최종 레이어를 지난 후 가장 높은 수치를 가진 것이 정답\n",
    "pred"
   ]
  },
  {
   "cell_type": "markdown",
   "metadata": {},
   "source": [
    "- np.argmax"
   ]
  },
  {
   "cell_type": "code",
   "execution_count": 22,
   "metadata": {},
   "outputs": [
    {
     "data": {
      "text/plain": [
       "7"
      ]
     },
     "execution_count": 22,
     "metadata": {},
     "output_type": "execute_result"
    }
   ],
   "source": [
    "np.argmax(pred)\n",
    "# 제일 높은 수치를 가진 것은 7 class, 따라서 답은 7"
   ]
  },
  {
   "cell_type": "markdown",
   "metadata": {},
   "source": [
    "## Test Batch"
   ]
  },
  {
   "cell_type": "markdown",
   "metadata": {},
   "source": [
    "Batch로 Test Dataset 넣기"
   ]
  },
  {
   "cell_type": "code",
   "execution_count": 43,
   "metadata": {},
   "outputs": [
    {
     "data": {
      "text/plain": [
       "(32, 28, 28, 1)"
      ]
     },
     "execution_count": 43,
     "metadata": {},
     "output_type": "execute_result"
    }
   ],
   "source": [
    "test_batch = test_x[:32]\n",
    "test_batch.shape"
   ]
  },
  {
   "cell_type": "markdown",
   "metadata": {},
   "source": [
    "Batch Test Dataset 모델에 넣기"
   ]
  },
  {
   "cell_type": "code",
   "execution_count": 44,
   "metadata": {},
   "outputs": [
    {
     "data": {
      "text/plain": [
       "(32, 10)"
      ]
     },
     "execution_count": 44,
     "metadata": {},
     "output_type": "execute_result"
    }
   ],
   "source": [
    "preds = model.predict(test_batch)\n",
    "preds.shape"
   ]
  },
  {
   "cell_type": "markdown",
   "metadata": {},
   "source": [
    "- 결과 확인"
   ]
  },
  {
   "cell_type": "code",
   "execution_count": 45,
   "metadata": {},
   "outputs": [
    {
     "data": {
      "text/plain": [
       "array([7, 2, 1, 0, 4, 1, 4, 9, 5, 9, 0, 6, 9, 0, 1, 5, 9, 7, 3, 4, 9, 6,\n",
       "       6, 5, 4, 0, 7, 4, 0, 1, 3, 1], dtype=int64)"
      ]
     },
     "execution_count": 45,
     "metadata": {},
     "output_type": "execute_result"
    }
   ],
   "source": [
    "np.argmax(preds, -1)"
   ]
  },
  {
   "cell_type": "code",
   "execution_count": 46,
   "metadata": {},
   "outputs": [
    {
     "data": {
      "text/plain": [
       "array([[3.99282163e-09, 9.97846583e-10, 5.94881101e-07, 3.80528945e-07,\n",
       "        7.80732423e-10, 1.42077572e-10, 9.77420185e-13, 9.99998450e-01,\n",
       "        9.88158888e-10, 6.24790630e-07],\n",
       "       [6.32841466e-06, 1.94211825e-04, 9.99791324e-01, 3.02768548e-08,\n",
       "        1.79352622e-08, 8.97703412e-10, 3.28360511e-06, 1.63777703e-09,\n",
       "        4.77443837e-06, 1.30325348e-10],\n",
       "       [2.30492873e-07, 9.99943614e-01, 1.63103005e-06, 2.08917612e-07,\n",
       "        4.00235513e-05, 4.70724103e-07, 1.63663935e-06, 1.06916968e-05,\n",
       "        6.78269487e-07, 5.72847966e-07],\n",
       "       [9.99937177e-01, 6.78741618e-10, 1.99055975e-07, 6.11882545e-09,\n",
       "        8.61352376e-08, 1.04212518e-07, 6.10300995e-05, 8.67568488e-08,\n",
       "        2.63715890e-07, 9.89300133e-07],\n",
       "       [3.18410223e-08, 9.01233488e-09, 2.70875766e-08, 1.76562942e-09,\n",
       "        9.99973178e-01, 3.26448091e-09, 1.99933567e-07, 2.02611297e-08,\n",
       "        7.59295844e-08, 2.63645670e-05],\n",
       "       [9.19289960e-08, 9.99975443e-01, 7.19102786e-07, 2.62770836e-08,\n",
       "        1.62331125e-05, 2.97712361e-08, 9.08401461e-08, 6.86817884e-06,\n",
       "        3.21171115e-07, 1.34784912e-07],\n",
       "       [1.31783529e-09, 1.45072263e-05, 1.90861709e-08, 1.24960255e-08,\n",
       "        9.99528766e-01, 4.09781478e-07, 6.96955098e-08, 9.46394678e-08,\n",
       "        4.38036252e-04, 1.81180785e-05],\n",
       "       [1.29277748e-06, 1.49115904e-05, 1.23106256e-05, 1.91153540e-05,\n",
       "        2.72262376e-02, 1.27880965e-04, 4.20639208e-06, 9.45542433e-06,\n",
       "        1.58893221e-04, 9.72425699e-01],\n",
       "       [7.59204966e-04, 7.99445488e-08, 1.40319912e-07, 2.55264126e-06,\n",
       "        2.72167759e-04, 7.86378801e-01, 2.02611983e-01, 6.52576730e-08,\n",
       "        4.18553269e-03, 5.78935072e-03],\n",
       "       [1.89413356e-08, 4.94185892e-09, 4.76037743e-09, 2.90689002e-07,\n",
       "        1.77164766e-04, 4.33036149e-07, 1.74140247e-09, 2.13840744e-04,\n",
       "        1.04595965e-05, 9.99597847e-01],\n",
       "       [9.99985814e-01, 6.19607032e-10, 9.37567984e-06, 1.51792463e-08,\n",
       "        1.72234493e-08, 2.34960424e-08, 7.08045889e-07, 1.00009288e-07,\n",
       "        1.99979286e-06, 1.92134144e-06],\n",
       "       [2.83014058e-04, 1.85894251e-08, 1.13066001e-07, 1.11300817e-08,\n",
       "        3.92368349e-07, 7.81539768e-07, 9.99707758e-01, 9.04356312e-10,\n",
       "        7.84489112e-06, 2.39311539e-08],\n",
       "       [7.73359421e-09, 2.63663336e-09, 8.74800843e-10, 4.11462025e-07,\n",
       "        6.79800054e-04, 5.85166902e-07, 3.52887852e-09, 7.53610084e-06,\n",
       "        2.82834990e-05, 9.99283373e-01],\n",
       "       [9.99993324e-01, 1.42210785e-10, 7.57328209e-08, 3.22863136e-09,\n",
       "        7.60123697e-09, 2.47440596e-07, 2.04101912e-06, 4.34867928e-08,\n",
       "        8.53156166e-07, 3.42686008e-06],\n",
       "       [1.21731966e-06, 9.99911427e-01, 3.11564554e-06, 5.39825123e-06,\n",
       "        4.86754434e-05, 1.12835232e-05, 6.88045066e-06, 2.11777319e-06,\n",
       "        6.78354081e-06, 3.04812215e-06],\n",
       "       [6.87776890e-07, 1.46915963e-05, 3.60577843e-07, 4.28641774e-03,\n",
       "        2.15218691e-07, 9.95521069e-01, 2.36758187e-05, 1.34519769e-06,\n",
       "        1.43407247e-04, 8.23057235e-06],\n",
       "       [6.31463024e-08, 6.45867693e-10, 1.46465942e-08, 8.72722197e-08,\n",
       "        8.39985907e-04, 5.39966507e-08, 7.98365463e-09, 1.35744594e-05,\n",
       "        1.12031548e-05, 9.99135077e-01],\n",
       "       [1.95945251e-08, 1.26747599e-10, 7.41890972e-07, 3.14805504e-07,\n",
       "        7.67217748e-11, 1.40841616e-10, 3.93828172e-13, 9.99998808e-01,\n",
       "        1.18324198e-10, 1.55612796e-07],\n",
       "       [9.58476856e-04, 8.23516306e-03, 1.58502755e-03, 6.89573109e-01,\n",
       "        1.23083952e-03, 1.01778381e-01, 3.14533012e-03, 4.39405179e-04,\n",
       "        1.91899672e-01, 1.15454441e-03],\n",
       "       [3.45912143e-09, 8.73465638e-07, 2.77901719e-08, 1.57148552e-08,\n",
       "        9.99953270e-01, 1.08402617e-07, 5.86986353e-08, 5.45688806e-07,\n",
       "        1.43613150e-07, 4.49510553e-05],\n",
       "       [4.15389195e-07, 1.87323917e-06, 2.02152066e-07, 5.74887781e-05,\n",
       "        1.26146700e-03, 8.24870040e-06, 3.40853248e-08, 8.77564028e-03,\n",
       "        1.50381038e-05, 9.89879608e-01],\n",
       "       [2.43244301e-07, 1.96094363e-09, 1.68710190e-09, 1.91313863e-08,\n",
       "        1.33923706e-07, 4.85813362e-05, 9.99947429e-01, 4.58411347e-12,\n",
       "        3.55807970e-06, 9.51074686e-09],\n",
       "       [4.88014084e-05, 3.43921187e-07, 2.34149923e-07, 5.48563115e-08,\n",
       "        9.21879953e-04, 5.13096620e-06, 9.99007881e-01, 7.02654077e-08,\n",
       "        1.36166045e-05, 2.04142839e-06],\n",
       "       [2.57774033e-08, 4.11152312e-09, 1.86508683e-10, 1.55084199e-05,\n",
       "        2.49457599e-07, 9.99905348e-01, 6.84208790e-05, 1.13134675e-10,\n",
       "        1.65110748e-06, 8.77388902e-06],\n",
       "       [2.38556140e-07, 3.18856928e-06, 2.17280694e-06, 8.08007314e-08,\n",
       "        9.99652863e-01, 5.92982758e-07, 3.77038737e-06, 2.64430173e-06,\n",
       "        4.27257964e-06, 3.30037874e-04],\n",
       "       [9.99965429e-01, 5.09469134e-10, 1.85577233e-06, 1.60086220e-08,\n",
       "        2.51037250e-07, 5.00774782e-08, 2.30421647e-05, 1.33581963e-07,\n",
       "        1.63657671e-06, 7.65240839e-06],\n",
       "       [7.61656679e-07, 2.30080360e-07, 7.24220308e-06, 3.90499827e-06,\n",
       "        3.44830056e-07, 2.04675175e-07, 4.27250846e-10, 9.99779284e-01,\n",
       "        6.01502350e-08, 2.08000187e-04],\n",
       "       [4.39340187e-12, 7.94718125e-10, 7.88880627e-11, 1.27064756e-11,\n",
       "        9.99999762e-01, 3.32168543e-10, 4.90537000e-10, 4.15023987e-11,\n",
       "        3.32479738e-10, 2.43258199e-07],\n",
       "       [9.99977350e-01, 2.29664092e-08, 1.57599079e-05, 3.19509184e-07,\n",
       "        5.27175352e-08, 3.15669979e-07, 5.77086723e-07, 1.89672039e-06,\n",
       "        2.45276715e-06, 1.17507409e-06],\n",
       "       [2.37685910e-07, 9.99809086e-01, 1.65367624e-06, 9.12075222e-07,\n",
       "        1.73962995e-04, 2.31979084e-06, 3.25492624e-06, 1.64347739e-06,\n",
       "        4.61610898e-06, 2.25362191e-06],\n",
       "       [3.50222713e-08, 1.41926751e-06, 2.16498120e-06, 9.99910831e-01,\n",
       "        1.79780031e-07, 2.23457955e-05, 8.00880340e-09, 2.69770881e-05,\n",
       "        1.53839210e-06, 3.45693079e-05],\n",
       "       [1.40381843e-07, 9.99599993e-01, 1.19323204e-06, 4.75896741e-07,\n",
       "        3.54593096e-04, 2.73012165e-06, 8.20746493e-07, 1.01647820e-05,\n",
       "        2.90929961e-06, 2.70522924e-05]], dtype=float32)"
      ]
     },
     "execution_count": 46,
     "metadata": {},
     "output_type": "execute_result"
    }
   ],
   "source": [
    "preds"
   ]
  },
  {
   "cell_type": "code",
   "execution_count": 47,
   "metadata": {},
   "outputs": [
    {
     "data": {
      "image/png": "[encoded data removed]",
      "text/plain": [
       "<Figure size 432x288 with 1 Axes>"
      ]
     },
     "metadata": {
      "needs_background": "light"
     },
     "output_type": "display_data"
    }
   ],
   "source": [
    "plt.imshow(test_batch[0, :, :, 0], 'gray')\n",
    "plt.show()"
   ]
  }
 ],
 "metadata": {
  "kernelspec": {
   "display_name": "Python 3",
   "language": "python",
   "name": "python3"
  },
  "language_info": {
   "codemirror_mode": {
    "name": "ipython",
    "version": 3
   },
   "file_extension": ".py",
   "mimetype": "text/x-python",
   "name": "python",
   "nbconvert_exporter": "python",
   "pygments_lexer": "ipython3",
   "version": "3.7.6"
  }
 },
 "nbformat": 4,
 "nbformat_minor": 4
}
