{
 "cells": [
  {
   "cell_type": "code",
   "execution_count": 2,
   "metadata": {},
   "outputs": [],
   "source": [
    "# 딥러닝을 구동하는 데 필요한 케라스 함수를 불러옵니다.\n",
    "from tensorflow.keras.models import Sequential\n",
    "from tensorflow.keras.layers import Dense"
   ]
  },
  {
   "cell_type": "code",
   "execution_count": 7,
   "metadata": {},
   "outputs": [],
   "source": [
    "# 필요한 라이브러리를 불러옵니다.\n",
    "import numpy as np\n",
    "import tensorflow as tf"
   ]
  },
  {
   "cell_type": "code",
   "execution_count": 30,
   "metadata": {},
   "outputs": [
    {
     "ename": "AttributeError",
     "evalue": "module 'tensorflow' has no attribute 'random'",
     "output_type": "error",
     "traceback": [
      "\u001b[1;31m---------------------------------------------------------------------------\u001b[0m",
      "\u001b[1;31mAttributeError\u001b[0m                            Traceback (most recent call last)",
      "\u001b[1;32m<ipython-input-30-34b76f4875ac>\u001b[0m in \u001b[0;36m<module>\u001b[1;34m\u001b[0m\n\u001b[0;32m      1\u001b[0m \u001b[1;31m# 실행할 때마다 같은 결과를 출력하기 위해 설정하는 부분입니다.\u001b[0m\u001b[1;33m\u001b[0m\u001b[1;33m\u001b[0m\u001b[1;33m\u001b[0m\u001b[0m\n\u001b[0;32m      2\u001b[0m \u001b[0mnp\u001b[0m\u001b[1;33m.\u001b[0m\u001b[0mrandom\u001b[0m\u001b[1;33m.\u001b[0m\u001b[0mseed\u001b[0m\u001b[1;33m(\u001b[0m\u001b[1;36m3\u001b[0m\u001b[1;33m)\u001b[0m\u001b[1;33m\u001b[0m\u001b[1;33m\u001b[0m\u001b[0m\n\u001b[1;32m----> 3\u001b[1;33m \u001b[0mtf\u001b[0m\u001b[1;33m.\u001b[0m\u001b[0mrandom\u001b[0m\u001b[1;33m.\u001b[0m\u001b[0mset_seed\u001b[0m\u001b[1;33m(\u001b[0m\u001b[1;36m3\u001b[0m\u001b[1;33m)\u001b[0m\u001b[1;33m\u001b[0m\u001b[1;33m\u001b[0m\u001b[0m\n\u001b[0m",
      "\u001b[1;31mAttributeError\u001b[0m: module 'tensorflow' has no attribute 'random'"
     ]
    }
   ],
   "source": [
    "# 실행할 때마다 같은 결과를 출력하기 위해 설정하는 부분입니다.\n",
    "np.random.seed(3)\n",
    "tf.random.set_seed(3)"
   ]
  },
  {
   "cell_type": "code",
   "execution_count": 15,
   "metadata": {},
   "outputs": [],
   "source": [
    "# 준비된 수술 환자 데이터를 불러들입니다.\n",
    "# Data_set = np.loadtxt(\"./datasets/ThoraricSurgery.csv\", delimiter=\",\")\n",
    "Data_set = np.loadtxt(\"./datasets/ThoraricSurgery.csv\", delimiter=\",\")"
   ]
  },
  {
   "cell_type": "code",
   "execution_count": 26,
   "metadata": {},
   "outputs": [
    {
     "name": "stdout",
     "output_type": "stream",
     "text": [
      "[ 1.    2.    2.88  2.16  1.    0.    0.    0.    1.    1.   14.    0.\n",
      "  0.    0.    1.    0.   60.  ]\n",
      "0.0\n"
     ]
    }
   ],
   "source": [
    "print(Data_set[1, 0:17])\n",
    "print(Data_set[1, 17])"
   ]
  },
  {
   "cell_type": "code",
   "execution_count": 17,
   "metadata": {},
   "outputs": [],
   "source": [
    "x = Data_set[:, 0:17]"
   ]
  },
  {
   "cell_type": "code",
   "execution_count": 18,
   "metadata": {},
   "outputs": [],
   "source": [
    "y = Data_set[:, 17]"
   ]
  },
  {
   "cell_type": "code",
   "execution_count": 19,
   "metadata": {},
   "outputs": [],
   "source": [
    "model = Sequential()"
   ]
  },
  {
   "cell_type": "code",
   "execution_count": 20,
   "metadata": {},
   "outputs": [],
   "source": [
    "model.add(Dense(30, input_dim = 17, activation=\"relu\"))\n",
    "model.add(Dense(1, activation=\"sigmoid\"))"
   ]
  },
  {
   "cell_type": "code",
   "execution_count": 23,
   "metadata": {},
   "outputs": [],
   "source": [
    "model.compile(loss=\"mean_squared_error\", optimizer=\"adam\", metrics=[\"accuracy\"])"
   ]
  },
  {
   "cell_type": "code",
   "execution_count": 27,
   "metadata": {},
   "outputs": [
    {
     "name": "stdout",
     "output_type": "stream",
     "text": [
      "Train on 470 samples\n",
      "Epoch 1/100\n",
      "470/470 [==============================] - 2s 4ms/sample - loss: 0.7791 - accuracy: 0.2085\n",
      "Epoch 2/100\n",
      "470/470 [==============================] - 0s 85us/sample - loss: 0.2419 - accuracy: 0.7532\n",
      "Epoch 3/100\n",
      "470/470 [==============================] - 0s 85us/sample - loss: 0.1751 - accuracy: 0.8149\n",
      "Epoch 4/100\n",
      "470/470 [==============================] - 0s 81us/sample - loss: 0.1487 - accuracy: 0.8511\n",
      "Epoch 5/100\n",
      "470/470 [==============================] - 0s 85us/sample - loss: 0.1487 - accuracy: 0.8511\n",
      "Epoch 6/100\n",
      "470/470 [==============================] - 0s 83us/sample - loss: 0.1486 - accuracy: 0.8511\n",
      "Epoch 7/100\n",
      "470/470 [==============================] - 0s 83us/sample - loss: 0.1483 - accuracy: 0.8511\n",
      "Epoch 8/100\n",
      "470/470 [==============================] - 0s 85us/sample - loss: 0.1484 - accuracy: 0.8511\n",
      "Epoch 9/100\n",
      "470/470 [==============================] - 0s 81us/sample - loss: 0.1484 - accuracy: 0.8468\n",
      "Epoch 10/100\n",
      "470/470 [==============================] - 0s 81us/sample - loss: 0.1479 - accuracy: 0.8511\n",
      "Epoch 11/100\n",
      "470/470 [==============================] - 0s 81us/sample - loss: 0.1485 - accuracy: 0.8511\n",
      "Epoch 12/100\n",
      "470/470 [==============================] - 0s 79us/sample - loss: 0.1474 - accuracy: 0.8511\n",
      "Epoch 13/100\n",
      "470/470 [==============================] - 0s 81us/sample - loss: 0.1471 - accuracy: 0.8511\n",
      "Epoch 14/100\n",
      "470/470 [==============================] - 0s 81us/sample - loss: 0.1471 - accuracy: 0.8532\n",
      "Epoch 15/100\n",
      "470/470 [==============================] - 0s 79us/sample - loss: 0.1471 - accuracy: 0.8511\n",
      "Epoch 16/100\n",
      "470/470 [==============================] - 0s 81us/sample - loss: 0.1471 - accuracy: 0.8489\n",
      "Epoch 17/100\n",
      "470/470 [==============================] - 0s 81us/sample - loss: 0.1472 - accuracy: 0.8511\n",
      "Epoch 18/100\n",
      "470/470 [==============================] - 0s 79us/sample - loss: 0.1476 - accuracy: 0.8511\n",
      "Epoch 19/100\n",
      "470/470 [==============================] - 0s 79us/sample - loss: 0.1478 - accuracy: 0.8511\n",
      "Epoch 20/100\n",
      "470/470 [==============================] - 0s 79us/sample - loss: 0.1465 - accuracy: 0.8489\n",
      "Epoch 21/100\n",
      "470/470 [==============================] - 0s 79us/sample - loss: 0.1443 - accuracy: 0.8511\n",
      "Epoch 22/100\n",
      "470/470 [==============================] - 0s 79us/sample - loss: 0.1494 - accuracy: 0.8468\n",
      "Epoch 23/100\n",
      "470/470 [==============================] - 0s 79us/sample - loss: 0.1460 - accuracy: 0.8511\n",
      "Epoch 24/100\n",
      "470/470 [==============================] - 0s 79us/sample - loss: 0.1451 - accuracy: 0.8532\n",
      "Epoch 25/100\n",
      "470/470 [==============================] - 0s 79us/sample - loss: 0.1447 - accuracy: 0.8511\n",
      "Epoch 26/100\n",
      "470/470 [==============================] - 0s 79us/sample - loss: 0.1456 - accuracy: 0.8468\n",
      "Epoch 27/100\n",
      "470/470 [==============================] - 0s 79us/sample - loss: 0.1453 - accuracy: 0.8511\n",
      "Epoch 28/100\n",
      "470/470 [==============================] - 0s 79us/sample - loss: 0.1465 - accuracy: 0.8511\n",
      "Epoch 29/100\n",
      "470/470 [==============================] - 0s 79us/sample - loss: 0.1476 - accuracy: 0.8468\n",
      "Epoch 30/100\n",
      "470/470 [==============================] - 0s 81us/sample - loss: 0.1437 - accuracy: 0.8532\n",
      "Epoch 31/100\n",
      "470/470 [==============================] - 0s 81us/sample - loss: 0.1450 - accuracy: 0.8447\n",
      "Epoch 32/100\n",
      "470/470 [==============================] - 0s 81us/sample - loss: 0.1454 - accuracy: 0.8511\n",
      "Epoch 33/100\n",
      "470/470 [==============================] - 0s 79us/sample - loss: 0.1441 - accuracy: 0.8574\n",
      "Epoch 34/100\n",
      "470/470 [==============================] - 0s 81us/sample - loss: 0.1443 - accuracy: 0.8532\n",
      "Epoch 35/100\n",
      "470/470 [==============================] - 0s 79us/sample - loss: 0.1432 - accuracy: 0.8532\n",
      "Epoch 36/100\n",
      "470/470 [==============================] - 0s 81us/sample - loss: 0.1454 - accuracy: 0.8489\n",
      "Epoch 37/100\n",
      "470/470 [==============================] - 0s 81us/sample - loss: 0.1438 - accuracy: 0.8511\n",
      "Epoch 38/100\n",
      "470/470 [==============================] - 0s 79us/sample - loss: 0.1425 - accuracy: 0.8553\n",
      "Epoch 39/100\n",
      "470/470 [==============================] - 0s 81us/sample - loss: 0.1431 - accuracy: 0.8532\n",
      "Epoch 40/100\n",
      "470/470 [==============================] - 0s 81us/sample - loss: 0.1431 - accuracy: 0.8532\n",
      "Epoch 41/100\n",
      "470/470 [==============================] - 0s 79us/sample - loss: 0.1426 - accuracy: 0.8489\n",
      "Epoch 42/100\n",
      "470/470 [==============================] - 0s 79us/sample - loss: 0.1422 - accuracy: 0.8532\n",
      "Epoch 43/100\n",
      "470/470 [==============================] - 0s 79us/sample - loss: 0.1422 - accuracy: 0.8532\n",
      "Epoch 44/100\n",
      "470/470 [==============================] - 0s 79us/sample - loss: 0.1439 - accuracy: 0.8532\n",
      "Epoch 45/100\n",
      "470/470 [==============================] - 0s 81us/sample - loss: 0.1421 - accuracy: 0.8532\n",
      "Epoch 46/100\n",
      "470/470 [==============================] - 0s 79us/sample - loss: 0.1435 - accuracy: 0.8511\n",
      "Epoch 47/100\n",
      "470/470 [==============================] - 0s 81us/sample - loss: 0.1437 - accuracy: 0.8532\n",
      "Epoch 48/100\n",
      "470/470 [==============================] - 0s 79us/sample - loss: 0.1413 - accuracy: 0.8511\n",
      "Epoch 49/100\n",
      "470/470 [==============================] - 0s 81us/sample - loss: 0.1396 - accuracy: 0.8532\n",
      "Epoch 50/100\n",
      "470/470 [==============================] - 0s 81us/sample - loss: 0.1410 - accuracy: 0.8468\n",
      "Epoch 51/100\n",
      "470/470 [==============================] - 0s 79us/sample - loss: 0.1394 - accuracy: 0.8553\n",
      "Epoch 52/100\n",
      "470/470 [==============================] - 0s 81us/sample - loss: 0.1400 - accuracy: 0.8532\n",
      "Epoch 53/100\n",
      "470/470 [==============================] - 0s 79us/sample - loss: 0.1409 - accuracy: 0.8553\n",
      "Epoch 54/100\n",
      "470/470 [==============================] - 0s 81us/sample - loss: 0.1393 - accuracy: 0.8553\n",
      "Epoch 55/100\n",
      "470/470 [==============================] - 0s 81us/sample - loss: 0.1394 - accuracy: 0.8596\n",
      "Epoch 56/100\n",
      "470/470 [==============================] - 0s 83us/sample - loss: 0.1389 - accuracy: 0.8574\n",
      "Epoch 57/100\n",
      "470/470 [==============================] - 0s 81us/sample - loss: 0.1399 - accuracy: 0.8532\n",
      "Epoch 58/100\n",
      "470/470 [==============================] - 0s 83us/sample - loss: 0.1388 - accuracy: 0.8553\n",
      "Epoch 59/100\n",
      "470/470 [==============================] - 0s 83us/sample - loss: 0.1384 - accuracy: 0.8553\n",
      "Epoch 60/100\n",
      "470/470 [==============================] - 0s 81us/sample - loss: 0.1398 - accuracy: 0.8553\n",
      "Epoch 61/100\n",
      "470/470 [==============================] - 0s 81us/sample - loss: 0.1382 - accuracy: 0.8532\n",
      "Epoch 62/100\n",
      "470/470 [==============================] - 0s 79us/sample - loss: 0.1399 - accuracy: 0.8553\n",
      "Epoch 63/100\n",
      "470/470 [==============================] - 0s 79us/sample - loss: 0.1411 - accuracy: 0.8532\n",
      "Epoch 64/100\n",
      "470/470 [==============================] - 0s 79us/sample - loss: 0.1408 - accuracy: 0.8489\n",
      "Epoch 65/100\n",
      "470/470 [==============================] - 0s 79us/sample - loss: 0.1393 - accuracy: 0.8511\n",
      "Epoch 66/100\n",
      "470/470 [==============================] - 0s 79us/sample - loss: 0.1391 - accuracy: 0.8574\n",
      "Epoch 67/100\n",
      "470/470 [==============================] - 0s 81us/sample - loss: 0.1387 - accuracy: 0.8532\n",
      "Epoch 68/100\n",
      "470/470 [==============================] - 0s 79us/sample - loss: 0.1367 - accuracy: 0.8574\n",
      "Epoch 69/100\n",
      "470/470 [==============================] - 0s 81us/sample - loss: 0.1416 - accuracy: 0.8511\n",
      "Epoch 70/100\n",
      "470/470 [==============================] - 0s 79us/sample - loss: 0.1414 - accuracy: 0.8532\n",
      "Epoch 71/100\n",
      "470/470 [==============================] - 0s 79us/sample - loss: 0.1385 - accuracy: 0.8596\n",
      "Epoch 72/100\n",
      "470/470 [==============================] - 0s 79us/sample - loss: 0.1387 - accuracy: 0.8553\n",
      "Epoch 73/100\n",
      "470/470 [==============================] - 0s 79us/sample - loss: 0.1399 - accuracy: 0.8553\n",
      "Epoch 74/100\n",
      "470/470 [==============================] - 0s 81us/sample - loss: 0.1391 - accuracy: 0.8574\n",
      "Epoch 75/100\n",
      "470/470 [==============================] - 0s 79us/sample - loss: 0.1359 - accuracy: 0.8638\n",
      "Epoch 76/100\n",
      "470/470 [==============================] - 0s 79us/sample - loss: 0.1380 - accuracy: 0.8574\n",
      "Epoch 77/100\n",
      "470/470 [==============================] - 0s 81us/sample - loss: 0.1375 - accuracy: 0.8596\n",
      "Epoch 78/100\n",
      "470/470 [==============================] - 0s 81us/sample - loss: 0.1383 - accuracy: 0.8511\n",
      "Epoch 79/100\n",
      "470/470 [==============================] - 0s 81us/sample - loss: 0.1337 - accuracy: 0.8553\n",
      "Epoch 80/100\n",
      "470/470 [==============================] - 0s 81us/sample - loss: 0.1354 - accuracy: 0.8511\n",
      "Epoch 81/100\n",
      "470/470 [==============================] - 0s 83us/sample - loss: 0.1378 - accuracy: 0.8553\n",
      "Epoch 82/100\n",
      "470/470 [==============================] - 0s 79us/sample - loss: 0.1387 - accuracy: 0.8511\n",
      "Epoch 83/100\n",
      "470/470 [==============================] - 0s 81us/sample - loss: 0.1397 - accuracy: 0.8532\n",
      "Epoch 84/100\n",
      "470/470 [==============================] - 0s 81us/sample - loss: 0.1421 - accuracy: 0.8553\n",
      "Epoch 85/100\n",
      "470/470 [==============================] - 0s 81us/sample - loss: 0.1394 - accuracy: 0.8574\n",
      "Epoch 86/100\n",
      "470/470 [==============================] - 0s 79us/sample - loss: 0.1389 - accuracy: 0.8574\n",
      "Epoch 87/100\n",
      "470/470 [==============================] - 0s 79us/sample - loss: 0.1397 - accuracy: 0.8511\n",
      "Epoch 88/100\n",
      "470/470 [==============================] - 0s 79us/sample - loss: 0.1395 - accuracy: 0.8532\n",
      "Epoch 89/100\n",
      "470/470 [==============================] - 0s 79us/sample - loss: 0.1396 - accuracy: 0.8596\n",
      "Epoch 90/100\n",
      "470/470 [==============================] - 0s 79us/sample - loss: 0.1372 - accuracy: 0.8596\n",
      "Epoch 91/100\n",
      "470/470 [==============================] - 0s 83us/sample - loss: 0.1361 - accuracy: 0.8638\n",
      "Epoch 92/100\n",
      "470/470 [==============================] - 0s 79us/sample - loss: 0.1370 - accuracy: 0.8553\n",
      "Epoch 93/100\n",
      "470/470 [==============================] - 0s 77us/sample - loss: 0.1365 - accuracy: 0.8638\n",
      "Epoch 94/100\n",
      "470/470 [==============================] - 0s 79us/sample - loss: 0.1358 - accuracy: 0.8596\n",
      "Epoch 95/100\n",
      "470/470 [==============================] - 0s 79us/sample - loss: 0.1387 - accuracy: 0.8553\n",
      "Epoch 96/100\n",
      "470/470 [==============================] - 0s 79us/sample - loss: 0.1363 - accuracy: 0.8617\n",
      "Epoch 97/100\n",
      "470/470 [==============================] - 0s 81us/sample - loss: 0.1375 - accuracy: 0.8574\n",
      "Epoch 98/100\n",
      "470/470 [==============================] - 0s 79us/sample - loss: 0.1371 - accuracy: 0.8574\n",
      "Epoch 99/100\n",
      "470/470 [==============================] - 0s 79us/sample - loss: 0.1365 - accuracy: 0.8596\n",
      "Epoch 100/100\n",
      "470/470 [==============================] - 0s 79us/sample - loss: 0.1357 - accuracy: 0.8638\n"
     ]
    },
    {
     "data": {
      "text/plain": [
       "<tensorflow.python.keras.callbacks.History at 0x1fb96f6bb08>"
      ]
     },
     "execution_count": 27,
     "metadata": {},
     "output_type": "execute_result"
    }
   ],
   "source": [
    "model.fit(x, y, epochs=100, batch_size=10)"
   ]
  }
 ],
 "metadata": {
  "kernelspec": {
   "display_name": "Python 3",
   "language": "python",
   "name": "python3"
  },
  "language_info": {
   "codemirror_mode": {
    "name": "ipython",
    "version": 3
   },
   "file_extension": ".py",
   "mimetype": "text/x-python",
   "name": "python",
   "nbconvert_exporter": "python",
   "pygments_lexer": "ipython3",
   "version": "3.7.6"
  }
 },
 "nbformat": 4,
 "nbformat_minor": 4
}
