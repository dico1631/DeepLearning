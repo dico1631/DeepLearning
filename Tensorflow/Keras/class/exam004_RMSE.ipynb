{
 "cells": [
  {
   "cell_type": "markdown",
   "metadata": {},
   "source": [
    "# RMSE 구하기"
   ]
  },
  {
   "cell_type": "code",
   "execution_count": 1,
   "metadata": {},
   "outputs": [],
   "source": [
    "import numpy as np"
   ]
  },
  {
   "cell_type": "code",
   "execution_count": 3,
   "metadata": {},
   "outputs": [],
   "source": [
    "#가상의 기울기 a와 y 절편 b\n",
    "fake_a_b=[3,76]\n",
    "\n",
    "# x 값과 y값\n",
    "data = [[2, 81], [4, 93], [6, 91], [8, 97]]"
   ]
  },
  {
   "cell_type": "code",
   "execution_count": 5,
   "metadata": {},
   "outputs": [
    {
     "data": {
      "text/plain": [
       "[2, 4, 6, 8]"
      ]
     },
     "execution_count": 5,
     "metadata": {},
     "output_type": "execute_result"
    }
   ],
   "source": [
    "x = [i[0] for i in data] \n",
    "x"
   ]
  },
  {
   "cell_type": "code",
   "execution_count": 7,
   "metadata": {},
   "outputs": [
    {
     "data": {
      "text/plain": [
       "[81, 93, 91, 97]"
      ]
     },
     "execution_count": 7,
     "metadata": {},
     "output_type": "execute_result"
    }
   ],
   "source": [
    "y = [i[1] for i in data]\n",
    "y"
   ]
  },
  {
   "cell_type": "code",
   "execution_count": 13,
   "metadata": {},
   "outputs": [],
   "source": [
    "def predict(x):\n",
    "    py = list()\n",
    "    for xi in x:\n",
    "        py.append(fake_a_b[0]*xi + fake_a_b[1])\n",
    "    return py"
   ]
  },
  {
   "cell_type": "code",
   "execution_count": 34,
   "metadata": {},
   "outputs": [],
   "source": [
    "def mse_val(py, y):\n",
    "    mse_v = 0\n",
    "    len_y = len(y)\n",
    "    for i in range(len_y):\n",
    "        mse_v += (py[i] - y[i])**2\n",
    "    return mse_v / len_y"
   ]
  },
  {
   "cell_type": "code",
   "execution_count": 28,
   "metadata": {},
   "outputs": [
    {
     "data": {
      "text/plain": [
       "([82, 88, 94, 100], [81, 93, 91, 97])"
      ]
     },
     "execution_count": 28,
     "metadata": {},
     "output_type": "execute_result"
    }
   ],
   "source": [
    "predict(x), y"
   ]
  },
  {
   "cell_type": "code",
   "execution_count": 37,
   "metadata": {},
   "outputs": [
    {
     "name": "stdout",
     "output_type": "stream",
     "text": [
      "mse_v: 11.0, rmse_v1: 3.3166247903554, rmse_v2: 3.3166247903554\n"
     ]
    }
   ],
   "source": [
    "mse_v = mse_val(predict(x), y)\n",
    "rmse_v1 = mse_v**0.5\n",
    "rmse_v2 = np.sqrt(mse_v)\n",
    "print(f'mse_v: {mse_v}, rmse_v1: {rmse_v1}, rmse_v2: {rmse_v2}')"
   ]
  }
 ],
 "metadata": {
  "kernelspec": {
   "display_name": "Python 3",
   "language": "python",
   "name": "python3"
  },
  "language_info": {
   "codemirror_mode": {
    "name": "ipython",
    "version": 3
   },
   "file_extension": ".py",
   "mimetype": "text/x-python",
   "name": "python",
   "nbconvert_exporter": "python",
   "pygments_lexer": "ipython3",
   "version": "3.7.6"
  }
 },
 "nbformat": 4,
 "nbformat_minor": 4
}
