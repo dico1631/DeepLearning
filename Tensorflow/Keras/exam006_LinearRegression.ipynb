{
 "cells": [
  {
   "cell_type": "markdown",
   "metadata": {},
   "source": [
    "# 선형회귀"
   ]
  },
  {
   "cell_type": "code",
   "execution_count": 18,
   "metadata": {},
   "outputs": [],
   "source": [
    "import numpy as np\n",
    "import pandas as pd\n",
    "import matplotlib.pyplot as plt"
   ]
  },
  {
   "cell_type": "code",
   "execution_count": 25,
   "metadata": {},
   "outputs": [],
   "source": [
    "# 공부시간 X 와 실제성적 Y 의 리스트를 만듭니다.\n",
    "data = ([2,81], [4,93], [6,91], [8,97])"
   ]
  },
  {
   "cell_type": "code",
   "execution_count": 19,
   "metadata": {},
   "outputs": [],
   "source": [
    "x = [2,4,6,8]\n",
    "y = [i[1] for i in data]"
   ]
  },
  {
   "cell_type": "code",
   "execution_count": 20,
   "metadata": {},
   "outputs": [
    {
     "data": {
      "image/png": "[encoded data removed]",
      "text/plain": [
       "<Figure size 504x360 with 1 Axes>"
      ]
     },
     "metadata": {
      "needs_background": "light"
     },
     "output_type": "display_data"
    }
   ],
   "source": [
    "plt.figure(figsize=(7,5)) #가로, 세로\n",
    "plt.scatter(x,y)\n",
    "plt.show()"
   ]
  },
  {
   "cell_type": "code",
   "execution_count": 21,
   "metadata": {},
   "outputs": [],
   "source": [
    "x_data = np.array(x)\n",
    "y_data = np.array(y)"
   ]
  },
  {
   "cell_type": "code",
   "execution_count": 22,
   "metadata": {},
   "outputs": [],
   "source": [
    "# 기울기 a와 절편 b의 값을 초기화한다.\n",
    "a = 0\n",
    "b = 0"
   ]
  },
  {
   "cell_type": "code",
   "execution_count": 23,
   "metadata": {},
   "outputs": [
    {
     "name": "stdout",
     "output_type": "stream",
     "text": [
      "epoch=0, 기울기=23.2000, 절편=4.5250\n",
      "epoch=100, 기울기=7.9316, 절편=45.3932\n",
      "epoch=200, 기울기=4.7953, 절편=64.1094\n",
      "epoch=300, 기울기=3.4056, 절편=72.4022\n",
      "epoch=400, 기울기=2.7899, 절편=76.0766\n",
      "epoch=500, 기울기=2.5171, 절편=77.7047\n",
      "epoch=600, 기울기=2.3962, 절편=78.4261\n",
      "epoch=700, 기울기=2.3426, 절편=78.7457\n",
      "epoch=800, 기울기=2.3189, 절편=78.8873\n",
      "epoch=900, 기울기=2.3084, 절편=78.9501\n",
      "epoch=1000, 기울기=2.3037, 절편=78.9779\n",
      "epoch=1100, 기울기=2.3016, 절편=78.9902\n",
      "epoch=1200, 기울기=2.3007, 절편=78.9957\n",
      "epoch=1300, 기울기=2.3003, 절편=78.9981\n",
      "epoch=1400, 기울기=2.3001, 절편=78.9991\n",
      "epoch=1500, 기울기=2.3001, 절편=78.9996\n",
      "epoch=1600, 기울기=2.3000, 절편=78.9998\n",
      "epoch=1700, 기울기=2.3000, 절편=78.9999\n",
      "epoch=1800, 기울기=2.3000, 절편=79.0000\n",
      "epoch=1900, 기울기=2.3000, 절편=79.0000\n",
      "epoch=2000, 기울기=2.3000, 절편=79.0000\n"
     ]
    }
   ],
   "source": [
    "# 한번 학습할 때 얼만큼 이동할 것인가?\n",
    "# 작으면 더 정확한 값이 나오지만 오래걸림.\n",
    "# keras는 Adm이라는 모델을 사용함\n",
    "lr = 0.05\n",
    "\n",
    "#몇 번 반복될지를 설정합니다.(0부터 세므로 원하는 반복 횟수에 +1을 해 주어야 합니다.)\n",
    "epochs = 2001 \n",
    "\n",
    "#경사 하강법을 시작합니다.\n",
    "for i in range(epochs): # epoch 수 만큼 반복\n",
    "    y_hat = a * x_data + b  #y를 구하는 식을 세웁니다\n",
    "    error = y_data - y_hat  #오차를 구하는 식입니다.\n",
    "    a_diff = -(1/len(x_data)) * sum(x_data * (error)) # 오차함수를 a로 미분한 값입니다. \n",
    "    b_diff = -(1/len(x_data)) * sum(error)  # 오차함수를 b로 미분한 값입니다. \n",
    "    a = a - lr * a_diff  # 학습률을 곱해 기존의 a값을 업데이트합니다.\n",
    "    b = b - lr * b_diff  # 학습률을 곱해 기존의 b값을 업데이트합니다.\n",
    "    if i % 100 == 0:    # 100번 반복될 때마다 현재의 a값, b값을 출력합니다.\n",
    "        print(\"epoch=%.f, 기울기=%.04f, 절편=%.04f\" % (i, a, b))"
   ]
  },
  {
   "cell_type": "code",
   "execution_count": 24,
   "metadata": {},
   "outputs": [
    {
     "data": {
      "image/png": "[encoded data removed]",
      "text/plain": [
       "<Figure size 432x288 with 1 Axes>"
      ]
     },
     "metadata": {
      "needs_background": "light"
     },
     "output_type": "display_data"
    }
   ],
   "source": [
    "y_pred = a * x_data + b\n",
    "plt.scatter(x, y)\n",
    "plt.plot([min(x_data), max(x_data)], [min(y_pred), max(y_pred)])\n",
    "plt.show()"
   ]
  }
 ],
 "metadata": {
  "kernelspec": {
   "display_name": "Python 3",
   "language": "python",
   "name": "python3"
  },
  "language_info": {
   "codemirror_mode": {
    "name": "ipython",
    "version": 3
   },
   "file_extension": ".py",
   "mimetype": "text/x-python",
   "name": "python",
   "nbconvert_exporter": "python",
   "pygments_lexer": "ipython3",
   "version": "3.7.6"
  }
 },
 "nbformat": 4,
 "nbformat_minor": 4
}
